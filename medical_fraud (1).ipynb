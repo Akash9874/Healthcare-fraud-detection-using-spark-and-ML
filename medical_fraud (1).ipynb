{
  "nbformat": 4,
  "nbformat_minor": 0,
  "metadata": {
    "colab": {
      "provenance": []
    },
    "kernelspec": {
      "name": "python3",
      "display_name": "Python 3"
    },
    "language_info": {
      "name": "python"
    }
  },
  "cells": [
    {
      "cell_type": "code",
      "source": [
        "\n",
        "from pyspark.sql import SparkSession\n",
        "\n",
        "\n",
        "spark = SparkSession.builder.appName(\"Healthcare Merge\").getOrCreate()\n",
        "\n",
        "\n",
        "providers_df = spark.read.csv('/content/healthcare_providers.csv', header=True, inferSchema=True)\n",
        "claims_df = spark.read.csv('/content/healthcare_claims.csv', header=True, inferSchema=True)\n",
        "\n",
        "\n",
        "providers_df.printSchema()\n",
        "claims_df.printSchema()\n"
      ],
      "metadata": {
        "colab": {
          "base_uri": "https://localhost:8080/"
        },
        "id": "Dzdk35eYNL58",
        "outputId": "eb792051-780a-4aae-dd21-4ddba0b41f89"
      },
      "execution_count": null,
      "outputs": [
        {
          "output_type": "stream",
          "name": "stdout",
          "text": [
            "root\n",
            " |-- provider_id: string (nullable = true)\n",
            " |-- provider_name: string (nullable = true)\n",
            " |-- specialty: string (nullable = true)\n",
            " |-- license_number: string (nullable = true)\n",
            " |-- years_of_experience: integer (nullable = true)\n",
            " |-- zip_code: integer (nullable = true)\n",
            " |-- state: string (nullable = true)\n",
            " |-- practice_size: string (nullable = true)\n",
            " |-- is_hospital_affiliated: integer (nullable = true)\n",
            " |-- electronic_system_type: string (nullable = true)\n",
            " |-- insurance_networks: string (nullable = true)\n",
            " |-- office_hours: string (nullable = true)\n",
            " |-- languages_spoken: string (nullable = true)\n",
            " |-- certification_dates: string (nullable = true)\n",
            " |-- rating: string (nullable = true)\n",
            " |-- patient_demographics: string (nullable = true)\n",
            "\n",
            "root\n",
            " |-- claim_id: string (nullable = true)\n",
            " |-- provider_id: string (nullable = true)\n",
            " |-- claim_date: date (nullable = true)\n",
            " |-- submission_date: date (nullable = true)\n",
            " |-- patient_age: integer (nullable = true)\n",
            " |-- patient_gender: string (nullable = true)\n",
            " |-- diagnosis_codes: string (nullable = true)\n",
            " |-- procedure_codes: string (nullable = true)\n",
            " |-- claim_amount: double (nullable = true)\n",
            " |-- service_location: string (nullable = true)\n",
            " |-- is_emergency: integer (nullable = true)\n",
            " |-- is_inpatient: integer (nullable = true)\n",
            " |-- medical_notes: string (nullable = true)\n",
            " |-- lab_results: string (nullable = true)\n",
            " |-- medication_history: string (nullable = true)\n",
            " |-- payment_status: string (nullable = true)\n",
            " |-- days_to_process: string (nullable = true)\n",
            " |-- claim_type: string (nullable = true)\n",
            " |-- referred_by: string (nullable = true)\n",
            " |-- patient_vitals: string (nullable = true)\n",
            " |-- previous_visits: string (nullable = true)\n",
            " |-- insurance_details: string (nullable = true)\n",
            "\n"
          ]
        }
      ]
    },
    {
      "cell_type": "code",
      "source": [
        "!pip install pyspark\n",
        "\n",
        "\n",
        "from pyspark.sql import SparkSession\n",
        "\n",
        "spark = SparkSession.builder.appName(\"HealthcareDataMerge\").getOrCreate()\n",
        "\n",
        "\n",
        "providers_path = \"/content/healthcare_providers.csv\"\n",
        "claims_path = \"/content/healthcare_claims.csv\"\n",
        "\n",
        "\n",
        "providers_df = spark.read.option(\"header\", \"true\").csv(providers_path)\n",
        "claims_df = spark.read.option(\"header\", \"true\").csv(claims_path)\n",
        "\n",
        "providers_df.printSchema()\n",
        "claims_df.printSchema()\n",
        "\n",
        "merged_df = providers_df.join(claims_df, on=\"provider_id\", how=\"inner\")\n",
        "\n",
        "\n",
        "merged_df.show(truncate=False)\n",
        "\n",
        "\n",
        "merged_output_path = \"/content/merged_healthcare_data.csv\"\n",
        "merged_df.write.csv(merged_output_path, header=True)"
      ],
      "metadata": {
        "colab": {
          "base_uri": "https://localhost:8080/"
        },
        "id": "MANtzhDhUObf",
        "outputId": "c80f7800-0cab-44ea-c2b2-0c317791be7e"
      },
      "execution_count": null,
      "outputs": [
        {
          "output_type": "stream",
          "name": "stdout",
          "text": [
            "Requirement already satisfied: pyspark in /usr/local/lib/python3.10/dist-packages (3.5.3)\n",
            "Requirement already satisfied: py4j==0.10.9.7 in /usr/local/lib/python3.10/dist-packages (from pyspark) (0.10.9.7)\n",
            "root\n",
            " |-- provider_id: string (nullable = true)\n",
            " |-- provider_name: string (nullable = true)\n",
            " |-- specialty: string (nullable = true)\n",
            " |-- license_number: string (nullable = true)\n",
            " |-- years_of_experience: string (nullable = true)\n",
            " |-- zip_code: string (nullable = true)\n",
            " |-- state: string (nullable = true)\n",
            " |-- practice_size: string (nullable = true)\n",
            " |-- is_hospital_affiliated: string (nullable = true)\n",
            " |-- electronic_system_type: string (nullable = true)\n",
            " |-- insurance_networks: string (nullable = true)\n",
            " |-- office_hours: string (nullable = true)\n",
            " |-- languages_spoken: string (nullable = true)\n",
            " |-- certification_dates: string (nullable = true)\n",
            " |-- rating: string (nullable = true)\n",
            " |-- patient_demographics: string (nullable = true)\n",
            "\n",
            "root\n",
            " |-- claim_id: string (nullable = true)\n",
            " |-- provider_id: string (nullable = true)\n",
            " |-- claim_date: string (nullable = true)\n",
            " |-- submission_date: string (nullable = true)\n",
            " |-- patient_age: string (nullable = true)\n",
            " |-- patient_gender: string (nullable = true)\n",
            " |-- diagnosis_codes: string (nullable = true)\n",
            " |-- procedure_codes: string (nullable = true)\n",
            " |-- claim_amount: string (nullable = true)\n",
            " |-- service_location: string (nullable = true)\n",
            " |-- is_emergency: string (nullable = true)\n",
            " |-- is_inpatient: string (nullable = true)\n",
            " |-- medical_notes: string (nullable = true)\n",
            " |-- lab_results: string (nullable = true)\n",
            " |-- medication_history: string (nullable = true)\n",
            " |-- payment_status: string (nullable = true)\n",
            " |-- days_to_process: string (nullable = true)\n",
            " |-- claim_type: string (nullable = true)\n",
            " |-- referred_by: string (nullable = true)\n",
            " |-- patient_vitals: string (nullable = true)\n",
            " |-- previous_visits: string (nullable = true)\n",
            " |-- insurance_details: string (nullable = true)\n",
            "\n",
            "+-----------+---------------------+----------+--------------+-------------------+--------+-----+-------------+----------------------+----------------------+--------------------------+----------------------------+----------------------------+------------------------------+-----------------------------+-----------------------------+----------+----------+---------------+-----------+--------------+-----------------------+--------------------------+------------+----------------+------------+------------+-----------------------------------------------------------------------------------------------------------------------------------+---------------------------+--------------------+-----------------------------------+----------------------+--------------------------+--------------------+-----------------------------------+----------------------+----------------------------------+\n",
            "|provider_id|provider_name        |specialty |license_number|years_of_experience|zip_code|state|practice_size|is_hospital_affiliated|electronic_system_type|insurance_networks        |office_hours                |languages_spoken            |certification_dates           |rating                       |patient_demographics         |claim_id  |claim_date|submission_date|patient_age|patient_gender|diagnosis_codes        |procedure_codes           |claim_amount|service_location|is_emergency|is_inpatient|medical_notes                                                                                                                      |lab_results                |medication_history  |payment_status                     |days_to_process       |claim_type                |referred_by         |patient_vitals                     |previous_visits       |insurance_details                 |\n",
            "+-----------+---------------------+----------+--------------+-------------------+--------+-----+-------------+----------------------+----------------------+--------------------------+----------------------------+----------------------------+------------------------------+-----------------------------+-----------------------------+----------+----------+---------------+-----------+--------------+-----------------------+--------------------------+------------+----------------+------------+------------+-----------------------------------------------------------------------------------------------------------------------------------+---------------------------+--------------------+-----------------------------------+----------------------+--------------------------+--------------------+-----------------------------------+----------------------+----------------------------------+\n",
            "|PROV00000  |Healthcare Provider 0|Pediatrics|LIC231932     |15                 |86820   |NY   |Large        |0                     |System C              |Network3,Network2,Network1|\"{\"\"monday\"\": \"\"9:00-17:00\"\"| \"\"tuesday\"\": \"\"9:00-17:00\"\"| \"\"wednesday\"\": \"\"9:00-17:00\"\"| \"\"thursday\"\": \"\"9:00-17:00\"\"| \"\"friday\"\": \"\"9:00-16:00\"\"}\"|CLM9909923|2023-07-09|2023-07-13     |72         |M             |ICD7175,ICD9284,ICD2281|CPT72683                  |409.97      |Telehealth      |0           |0           |Patient reported nausea with improvement. Prescribed therapy B. Lab results: inconclusive.                                         |\"{\"\"CBC\"\": {\"\"value\"\": 8.02| \"\"unit\"\": \"\"mg/dL\"\"| \"\"reference_range\"\": \"\"3.68-9.36\"\"| \"\"flag\"\": null}      | \"\"CMP\"\": {\"\"value\"\": 7.82| \"\"unit\"\": \"\"%\"\"    | \"\"reference_range\"\": \"\"4.83-6.35\"\"| \"\"flag\"\": null}      | \"\"Lipid Panel\"\": {\"\"value\"\": 2.64|\n",
            "|PROV00000  |Healthcare Provider 0|Pediatrics|LIC231932     |15                 |86820   |NY   |Large        |0                     |System C              |Network3,Network2,Network1|\"{\"\"monday\"\": \"\"9:00-17:00\"\"| \"\"tuesday\"\": \"\"9:00-17:00\"\"| \"\"wednesday\"\": \"\"9:00-17:00\"\"| \"\"thursday\"\": \"\"9:00-17:00\"\"| \"\"friday\"\": \"\"9:00-16:00\"\"}\"|CLM5942422|2023-03-28|2023-03-30     |66         |F             |ICD7961,ICD6626,ICD5514|CPT84638,CPT48218         |601.74      |Clinic          |0           |1           |Emergency consultation for nausea. Diagnostic tests show no change. Treatment: therapy B. Allergies: within normal range           |\"{\"\"CBC\"\": {\"\"value\"\": 0.46| \"\"unit\"\": \"\"g/dL\"\" | \"\"reference_range\"\": \"\"0.01-8.88\"\"| \"\"flag\"\": \"\"High\"\"}  | \"\"CMP\"\": {\"\"value\"\": 2.52| \"\"unit\"\": \"\"mg/dL\"\"| \"\"reference_range\"\": \"\"4.43-6.58\"\"| \"\"flag\"\": \"\"Normal\"\"}| \"\"Lipid Panel\"\": {\"\"value\"\": 9.38|\n",
            "|PROV00000  |Healthcare Provider 0|Pediatrics|LIC231932     |15                 |86820   |NY   |Large        |0                     |System C              |Network3,Network2,Network1|\"{\"\"monday\"\": \"\"9:00-17:00\"\"| \"\"tuesday\"\": \"\"9:00-17:00\"\"| \"\"wednesday\"\": \"\"9:00-17:00\"\"| \"\"thursday\"\": \"\"9:00-17:00\"\"| \"\"friday\"\": \"\"9:00-16:00\"\"}\"|CLM4625153|2023-02-13|2023-02-15     |22         |F             |ICD5734,ICD3525        |CPT32525,CPT47403         |676.96      |Hospital        |0           |0           |Patient reported pain with minor complications. Prescribed therapy B. Lab results: slightly elevated.                              |\"{\"\"CBC\"\": {\"\"value\"\": 4.42| \"\"unit\"\": \"\"mg/dL\"\"| \"\"reference_range\"\": \"\"3.54-5.51\"\"| \"\"flag\"\": \"\"Normal\"\"}| \"\"CMP\"\": {\"\"value\"\": 3.94| \"\"unit\"\": \"\"mg/dL\"\"| \"\"reference_range\"\": \"\"4.55-9.75\"\"| \"\"flag\"\": \"\"Normal\"\"}| \"\"Lipid Panel\"\": {\"\"value\"\": 8.86|\n",
            "|PROV00000  |Healthcare Provider 0|Pediatrics|LIC231932     |15                 |86820   |NY   |Large        |0                     |System C              |Network3,Network2,Network1|\"{\"\"monday\"\": \"\"9:00-17:00\"\"| \"\"tuesday\"\": \"\"9:00-17:00\"\"| \"\"wednesday\"\": \"\"9:00-17:00\"\"| \"\"thursday\"\": \"\"9:00-17:00\"\"| \"\"friday\"\": \"\"9:00-16:00\"\"}\"|CLM9023647|2023-10-05|2023-10-13     |69         |F             |ICD6539,ICD8493        |CPT31311,CPT79180         |450.68      |Hospital        |0           |0           |Emergency consultation for fever. Diagnostic tests show minor complications. Treatment: rest. Allergies: within normal range       |\"{\"\"CBC\"\": {\"\"value\"\": 5.39| \"\"unit\"\": \"\"mIU/L\"\"| \"\"reference_range\"\": \"\"1.66-9.49\"\"| \"\"flag\"\": null}      | \"\"CMP\"\": {\"\"value\"\": 6.99| \"\"unit\"\": \"\"g/dL\"\" | \"\"reference_range\"\": \"\"0.73-9.27\"\"| \"\"flag\"\": \"\"Normal\"\"}| \"\"Lipid Panel\"\": {\"\"value\"\": 2.94|\n",
            "|PROV00000  |Healthcare Provider 0|Pediatrics|LIC231932     |15                 |86820   |NY   |Large        |0                     |System C              |Network3,Network2,Network1|\"{\"\"monday\"\": \"\"9:00-17:00\"\"| \"\"tuesday\"\": \"\"9:00-17:00\"\"| \"\"wednesday\"\": \"\"9:00-17:00\"\"| \"\"thursday\"\": \"\"9:00-17:00\"\"| \"\"friday\"\": \"\"9:00-16:00\"\"}\"|CLM6847898|2023-11-04|2023-11-12     |26         |M             |ICD6855                |CPT66690,CPT87582,CPT33634|616.27      |Clinic          |0           |0           |Patient reported fever with no change. Prescribed rest. Lab results: requires follow-up.                                           |\"{\"\"CBC\"\": {\"\"value\"\": 5.03| \"\"unit\"\": \"\"%\"\"    | \"\"reference_range\"\": \"\"2.4-9.17\"\" | \"\"flag\"\": null}      | \"\"CMP\"\": {\"\"value\"\": 2.88| \"\"unit\"\": \"\"g/dL\"\" | \"\"reference_range\"\": \"\"1.56-5.57\"\"| \"\"flag\"\": null}      | \"\"Lipid Panel\"\": {\"\"value\"\": 2.27|\n",
            "|PROV00000  |Healthcare Provider 0|Pediatrics|LIC231932     |15                 |86820   |NY   |Large        |0                     |System C              |Network3,Network2,Network1|\"{\"\"monday\"\": \"\"9:00-17:00\"\"| \"\"tuesday\"\": \"\"9:00-17:00\"\"| \"\"wednesday\"\": \"\"9:00-17:00\"\"| \"\"thursday\"\": \"\"9:00-17:00\"\"| \"\"friday\"\": \"\"9:00-16:00\"\"}\"|CLM7732446|2023-12-30|2024-01-06     |84         |F             |ICD3200,ICD2683,ICD7321|CPT41566                  |404.99      |Clinic          |1           |1           |Patient reported dizziness with no change. Prescribed procedure C. Lab results: slightly elevated.                                 |\"{\"\"CBC\"\": {\"\"value\"\": 9.05| \"\"unit\"\": \"\"%\"\"    | \"\"reference_range\"\": \"\"0.61-7.53\"\"| \"\"flag\"\": \"\"Low\"\"}   | \"\"CMP\"\": {\"\"value\"\": 3.52| \"\"unit\"\": \"\"%\"\"    | \"\"reference_range\"\": \"\"1.44-7.51\"\"| \"\"flag\"\": \"\"Low\"\"}   | \"\"Lipid Panel\"\": {\"\"value\"\": 4.69|\n",
            "|PROV00000  |Healthcare Provider 0|Pediatrics|LIC231932     |15                 |86820   |NY   |Large        |0                     |System C              |Network3,Network2,Network1|\"{\"\"monday\"\": \"\"9:00-17:00\"\"| \"\"tuesday\"\": \"\"9:00-17:00\"\"| \"\"wednesday\"\": \"\"9:00-17:00\"\"| \"\"thursday\"\": \"\"9:00-17:00\"\"| \"\"friday\"\": \"\"9:00-16:00\"\"}\"|CLM6870704|2023-12-31|2024-01-03     |70         |F             |ICD7734                |CPT49008                  |521.46      |Hospital        |0           |0           |Patient reported nausea with normal readings. Prescribed therapy B. Lab results: inconclusive.                                     |\"{\"\"CBC\"\": {\"\"value\"\": 8.42| \"\"unit\"\": \"\"mIU/L\"\"| \"\"reference_range\"\": \"\"1.84-9.91\"\"| \"\"flag\"\": \"\"High\"\"}  | \"\"CMP\"\": {\"\"value\"\": 6.96| \"\"unit\"\": \"\"mIU/L\"\"| \"\"reference_range\"\": \"\"0.76-6.01\"\"| \"\"flag\"\": null}      | \"\"Lipid Panel\"\": {\"\"value\"\": 2.9 |\n",
            "|PROV00000  |Healthcare Provider 0|Pediatrics|LIC231932     |15                 |86820   |NY   |Large        |0                     |System C              |Network3,Network2,Network1|\"{\"\"monday\"\": \"\"9:00-17:00\"\"| \"\"tuesday\"\": \"\"9:00-17:00\"\"| \"\"wednesday\"\": \"\"9:00-17:00\"\"| \"\"thursday\"\": \"\"9:00-17:00\"\"| \"\"friday\"\": \"\"9:00-16:00\"\"}\"|CLM8529131|2023-06-25|2023-07-01     |31         |F             |ICD7106,ICD8333        |CPT49423,CPT96120,CPT76600|441.84      |Office          |0           |0           |Follow-up visit for dizziness. no change observed. Continue procedure C. Vitals: within normal range                               |\"{\"\"CBC\"\": {\"\"value\"\": 1.25| \"\"unit\"\": \"\"g/dL\"\" | \"\"reference_range\"\": \"\"2.42-8.77\"\"| \"\"flag\"\": \"\"High\"\"}  | \"\"CMP\"\": {\"\"value\"\": 1.47| \"\"unit\"\": \"\"%\"\"    | \"\"reference_range\"\": \"\"1.26-7.89\"\"| \"\"flag\"\": \"\"Normal\"\"}| \"\"Lipid Panel\"\": {\"\"value\"\": 9.65|\n",
            "|PROV00000  |Healthcare Provider 0|Pediatrics|LIC231932     |15                 |86820   |NY   |Large        |0                     |System C              |Network3,Network2,Network1|\"{\"\"monday\"\": \"\"9:00-17:00\"\"| \"\"tuesday\"\": \"\"9:00-17:00\"\"| \"\"wednesday\"\": \"\"9:00-17:00\"\"| \"\"thursday\"\": \"\"9:00-17:00\"\"| \"\"friday\"\": \"\"9:00-16:00\"\"}\"|CLM7474961|2023-01-16|2023-01-20     |40         |F             |ICD8959                |CPT28782                  |538.63      |Clinic          |0           |1           |Emergency consultation for fever. Diagnostic tests show minor complications. Treatment: procedure C. Allergies: within normal range|\"{\"\"CBC\"\": {\"\"value\"\": 0.25| \"\"unit\"\": \"\"mIU/L\"\"| \"\"reference_range\"\": \"\"1.17-5.79\"\"| \"\"flag\"\": \"\"Normal\"\"}| \"\"CMP\"\": {\"\"value\"\": 2.41| \"\"unit\"\": \"\"mg/dL\"\"| \"\"reference_range\"\": \"\"3.97-9.46\"\"| \"\"flag\"\": \"\"Normal\"\"}| \"\"Lipid Panel\"\": {\"\"value\"\": 2.57|\n",
            "|PROV00000  |Healthcare Provider 0|Pediatrics|LIC231932     |15                 |86820   |NY   |Large        |0                     |System C              |Network3,Network2,Network1|\"{\"\"monday\"\": \"\"9:00-17:00\"\"| \"\"tuesday\"\": \"\"9:00-17:00\"\"| \"\"wednesday\"\": \"\"9:00-17:00\"\"| \"\"thursday\"\": \"\"9:00-17:00\"\"| \"\"friday\"\": \"\"9:00-16:00\"\"}\"|CLM1106998|2023-06-14|2023-06-20     |83         |M             |ICD4871                |CPT37075                  |744.92      |Telehealth      |0           |0           |Follow-up visit for discomfort. minor complications observed. Continue monitoring. Vitals: requires follow-up                      |\"{\"\"CBC\"\": {\"\"value\"\": 5.17| \"\"unit\"\": \"\"mg/dL\"\"| \"\"reference_range\"\": \"\"0.96-9.14\"\"| \"\"flag\"\": null}      | \"\"CMP\"\": {\"\"value\"\": 9.57| \"\"unit\"\": \"\"%\"\"    | \"\"reference_range\"\": \"\"0.82-6.59\"\"| \"\"flag\"\": \"\"High\"\"}  | \"\"Lipid Panel\"\": {\"\"value\"\": 7.56|\n",
            "|PROV00000  |Healthcare Provider 0|Pediatrics|LIC231932     |15                 |86820   |NY   |Large        |0                     |System C              |Network3,Network2,Network1|\"{\"\"monday\"\": \"\"9:00-17:00\"\"| \"\"tuesday\"\": \"\"9:00-17:00\"\"| \"\"wednesday\"\": \"\"9:00-17:00\"\"| \"\"thursday\"\": \"\"9:00-17:00\"\"| \"\"friday\"\": \"\"9:00-16:00\"\"}\"|CLM1221163|2023-03-08|2023-03-11     |30         |M             |ICD4767,ICD3006        |CPT13107,CPT96388         |376.99      |Telehealth      |0           |0           |Patient reported swelling with minor complications. Prescribed medication A. Lab results: slightly elevated.                       |\"{\"\"CBC\"\": {\"\"value\"\": 1.91| \"\"unit\"\": \"\"mIU/L\"\"| \"\"reference_range\"\": \"\"4.64-8.85\"\"| \"\"flag\"\": \"\"Normal\"\"}| \"\"CMP\"\": {\"\"value\"\": 8.02| \"\"unit\"\": \"\"g/dL\"\" | \"\"reference_range\"\": \"\"2.53-5.88\"\"| \"\"flag\"\": \"\"Normal\"\"}| \"\"Lipid Panel\"\": {\"\"value\"\": 3.11|\n",
            "|PROV00000  |Healthcare Provider 0|Pediatrics|LIC231932     |15                 |86820   |NY   |Large        |0                     |System C              |Network3,Network2,Network1|\"{\"\"monday\"\": \"\"9:00-17:00\"\"| \"\"tuesday\"\": \"\"9:00-17:00\"\"| \"\"wednesday\"\": \"\"9:00-17:00\"\"| \"\"thursday\"\": \"\"9:00-17:00\"\"| \"\"friday\"\": \"\"9:00-16:00\"\"}\"|CLM7801256|2023-11-10|2023-11-13     |32         |M             |ICD9199,ICD4139        |CPT80543,CPT95971         |605.74      |Telehealth      |0           |0           |Patient reported dizziness with elevated levels. Prescribed monitoring. Lab results: inconclusive.                                 |\"{\"\"CBC\"\": {\"\"value\"\": 2.79| \"\"unit\"\": \"\"mIU/L\"\"| \"\"reference_range\"\": \"\"3.91-6.66\"\"| \"\"flag\"\": \"\"High\"\"}  | \"\"CMP\"\": {\"\"value\"\": 0.39| \"\"unit\"\": \"\"%\"\"    | \"\"reference_range\"\": \"\"4.01-8.54\"\"| \"\"flag\"\": null}      | \"\"Lipid Panel\"\": {\"\"value\"\": 4.92|\n",
            "|PROV00000  |Healthcare Provider 0|Pediatrics|LIC231932     |15                 |86820   |NY   |Large        |0                     |System C              |Network3,Network2,Network1|\"{\"\"monday\"\": \"\"9:00-17:00\"\"| \"\"tuesday\"\": \"\"9:00-17:00\"\"| \"\"wednesday\"\": \"\"9:00-17:00\"\"| \"\"thursday\"\": \"\"9:00-17:00\"\"| \"\"friday\"\": \"\"9:00-16:00\"\"}\"|CLM5273487|2023-07-01|2023-07-02     |84         |M             |ICD7443                |CPT31143                  |469.4       |Telehealth      |0           |1           |Patient reported swelling with elevated levels. Prescribed procedure C. Lab results: inconclusive.                                 |\"{\"\"CBC\"\": {\"\"value\"\": 4.84| \"\"unit\"\": \"\"mg/dL\"\"| \"\"reference_range\"\": \"\"0.95-6.55\"\"| \"\"flag\"\": \"\"Normal\"\"}| \"\"CMP\"\": {\"\"value\"\": 6.69| \"\"unit\"\": \"\"%\"\"    | \"\"reference_range\"\": \"\"0.83-9.99\"\"| \"\"flag\"\": \"\"Normal\"\"}| \"\"Lipid Panel\"\": {\"\"value\"\": 0.81|\n",
            "|PROV00000  |Healthcare Provider 0|Pediatrics|LIC231932     |15                 |86820   |NY   |Large        |0                     |System C              |Network3,Network2,Network1|\"{\"\"monday\"\": \"\"9:00-17:00\"\"| \"\"tuesday\"\": \"\"9:00-17:00\"\"| \"\"wednesday\"\": \"\"9:00-17:00\"\"| \"\"thursday\"\": \"\"9:00-17:00\"\"| \"\"friday\"\": \"\"9:00-16:00\"\"}\"|CLM8200622|2023-07-25|2023-07-28     |38         |F             |ICD1020,ICD2099,ICD7841|CPT95333,CPT50225         |508.62      |Telehealth      |0           |1           |Follow-up visit for discomfort. improvement observed. Continue medication A. Vitals: requires follow-up                            |\"{\"\"CBC\"\": {\"\"value\"\": 1.72| \"\"unit\"\": \"\"mIU/L\"\"| \"\"reference_range\"\": \"\"1.35-7.39\"\"| \"\"flag\"\": null}      | \"\"CMP\"\": {\"\"value\"\": 3.13| \"\"unit\"\": \"\"%\"\"    | \"\"reference_range\"\": \"\"3.49-8.14\"\"| \"\"flag\"\": \"\"Low\"\"}   | \"\"Lipid Panel\"\": {\"\"value\"\": 6.04|\n",
            "|PROV00000  |Healthcare Provider 0|Pediatrics|LIC231932     |15                 |86820   |NY   |Large        |0                     |System C              |Network3,Network2,Network1|\"{\"\"monday\"\": \"\"9:00-17:00\"\"| \"\"tuesday\"\": \"\"9:00-17:00\"\"| \"\"wednesday\"\": \"\"9:00-17:00\"\"| \"\"thursday\"\": \"\"9:00-17:00\"\"| \"\"friday\"\": \"\"9:00-16:00\"\"}\"|CLM7869001|2023-11-24|2023-12-01     |40         |F             |ICD3175                |CPT73908,CPT35654         |544.83      |Telehealth      |0           |0           |Emergency consultation for fever. Diagnostic tests show normal readings. Treatment: therapy B. Allergies: within normal range      |\"{\"\"CBC\"\": {\"\"value\"\": 1.62| \"\"unit\"\": \"\"g/dL\"\" | \"\"reference_range\"\": \"\"2.26-6.83\"\"| \"\"flag\"\": \"\"High\"\"}  | \"\"CMP\"\": {\"\"value\"\": 6.81| \"\"unit\"\": \"\"mg/dL\"\"| \"\"reference_range\"\": \"\"2.24-9.44\"\"| \"\"flag\"\": \"\"Low\"\"}   | \"\"Lipid Panel\"\": {\"\"value\"\": 6.65|\n",
            "|PROV00000  |Healthcare Provider 0|Pediatrics|LIC231932     |15                 |86820   |NY   |Large        |0                     |System C              |Network3,Network2,Network1|\"{\"\"monday\"\": \"\"9:00-17:00\"\"| \"\"tuesday\"\": \"\"9:00-17:00\"\"| \"\"wednesday\"\": \"\"9:00-17:00\"\"| \"\"thursday\"\": \"\"9:00-17:00\"\"| \"\"friday\"\": \"\"9:00-16:00\"\"}\"|CLM9015119|2023-05-03|2023-05-07     |60         |F             |ICD1625,ICD6906,ICD8983|CPT84180,CPT83678,CPT41644|595.29      |Hospital        |0           |0           |Follow-up visit for pain. normal readings observed. Continue rest. Vitals: slightly elevated                                       |\"{\"\"CBC\"\": {\"\"value\"\": 8.95| \"\"unit\"\": \"\"g/dL\"\" | \"\"reference_range\"\": \"\"4.57-7.49\"\"| \"\"flag\"\": \"\"Normal\"\"}| \"\"CMP\"\": {\"\"value\"\": 1.01| \"\"unit\"\": \"\"mg/dL\"\"| \"\"reference_range\"\": \"\"3.36-6.22\"\"| \"\"flag\"\": \"\"Low\"\"}   | \"\"Lipid Panel\"\": {\"\"value\"\": 6.56|\n",
            "|PROV00000  |Healthcare Provider 0|Pediatrics|LIC231932     |15                 |86820   |NY   |Large        |0                     |System C              |Network3,Network2,Network1|\"{\"\"monday\"\": \"\"9:00-17:00\"\"| \"\"tuesday\"\": \"\"9:00-17:00\"\"| \"\"wednesday\"\": \"\"9:00-17:00\"\"| \"\"thursday\"\": \"\"9:00-17:00\"\"| \"\"friday\"\": \"\"9:00-16:00\"\"}\"|CLM8364308|2023-03-21|2023-03-24     |75         |M             |ICD1343                |CPT78617,CPT33021,CPT19449|499.86      |Hospital        |0           |0           |Follow-up visit for swelling. minor complications observed. Continue therapy B. Vitals: slightly elevated                          |\"{\"\"CBC\"\": {\"\"value\"\": 3.64| \"\"unit\"\": \"\"mg/dL\"\"| \"\"reference_range\"\": \"\"1.03-5.33\"\"| \"\"flag\"\": \"\"Low\"\"}   | \"\"CMP\"\": {\"\"value\"\": 4.72| \"\"unit\"\": \"\"mg/dL\"\"| \"\"reference_range\"\": \"\"0.41-5.57\"\"| \"\"flag\"\": \"\"Normal\"\"}| \"\"Lipid Panel\"\": {\"\"value\"\": 4.7 |\n",
            "|PROV00000  |Healthcare Provider 0|Pediatrics|LIC231932     |15                 |86820   |NY   |Large        |0                     |System C              |Network3,Network2,Network1|\"{\"\"monday\"\": \"\"9:00-17:00\"\"| \"\"tuesday\"\": \"\"9:00-17:00\"\"| \"\"wednesday\"\": \"\"9:00-17:00\"\"| \"\"thursday\"\": \"\"9:00-17:00\"\"| \"\"friday\"\": \"\"9:00-16:00\"\"}\"|CLM1951710|2023-05-27|2023-06-05     |70         |M             |ICD6977,ICD4079        |CPT46509,CPT89417,CPT59237|453.44      |Clinic          |0           |0           |Emergency consultation for swelling. Diagnostic tests show normal readings. Treatment: procedure C. Allergies: inconclusive        |\"{\"\"CBC\"\": {\"\"value\"\": 6.0 | \"\"unit\"\": \"\"%\"\"    | \"\"reference_range\"\": \"\"1.73-6.45\"\"| \"\"flag\"\": null}      | \"\"CMP\"\": {\"\"value\"\": 1.16| \"\"unit\"\": \"\"mIU/L\"\"| \"\"reference_range\"\": \"\"2.14-7.58\"\"| \"\"flag\"\": \"\"High\"\"}  | \"\"Lipid Panel\"\": {\"\"value\"\": 3.47|\n",
            "|PROV00000  |Healthcare Provider 0|Pediatrics|LIC231932     |15                 |86820   |NY   |Large        |0                     |System C              |Network3,Network2,Network1|\"{\"\"monday\"\": \"\"9:00-17:00\"\"| \"\"tuesday\"\": \"\"9:00-17:00\"\"| \"\"wednesday\"\": \"\"9:00-17:00\"\"| \"\"thursday\"\": \"\"9:00-17:00\"\"| \"\"friday\"\": \"\"9:00-16:00\"\"}\"|CLM6278452|2023-09-15|2023-09-20     |67         |F             |ICD5881,ICD5507,ICD2996|CPT63533                  |442.58      |Office          |0           |1           |Follow-up visit for discomfort. improvement observed. Continue procedure C. Vitals: within normal range                            |\"{\"\"CBC\"\": {\"\"value\"\": 5.05| \"\"unit\"\": \"\"%\"\"    | \"\"reference_range\"\": \"\"1.91-5.33\"\"| \"\"flag\"\": \"\"Low\"\"}   | \"\"CMP\"\": {\"\"value\"\": 2.98| \"\"unit\"\": \"\"mg/dL\"\"| \"\"reference_range\"\": \"\"0.11-9.04\"\"| \"\"flag\"\": \"\"Low\"\"}   | \"\"Lipid Panel\"\": {\"\"value\"\": 0.97|\n",
            "|PROV00000  |Healthcare Provider 0|Pediatrics|LIC231932     |15                 |86820   |NY   |Large        |0                     |System C              |Network3,Network2,Network1|\"{\"\"monday\"\": \"\"9:00-17:00\"\"| \"\"tuesday\"\": \"\"9:00-17:00\"\"| \"\"wednesday\"\": \"\"9:00-17:00\"\"| \"\"thursday\"\": \"\"9:00-17:00\"\"| \"\"friday\"\": \"\"9:00-16:00\"\"}\"|CLM6891966|2023-03-06|2023-03-12     |70         |F             |ICD7817,ICD1703        |CPT34940,CPT81792,CPT38432|409.09      |Telehealth      |0           |0           |Emergency consultation for pain. Diagnostic tests show no change. Treatment: medication A. Allergies: inconclusive                 |\"{\"\"CBC\"\": {\"\"value\"\": 2.03| \"\"unit\"\": \"\"mIU/L\"\"| \"\"reference_range\"\": \"\"3.97-5.96\"\"| \"\"flag\"\": null}      | \"\"CMP\"\": {\"\"value\"\": 4.61| \"\"unit\"\": \"\"g/dL\"\" | \"\"reference_range\"\": \"\"4.14-9.87\"\"| \"\"flag\"\": \"\"High\"\"}  | \"\"Lipid Panel\"\": {\"\"value\"\": 8.27|\n",
            "+-----------+---------------------+----------+--------------+-------------------+--------+-----+-------------+----------------------+----------------------+--------------------------+----------------------------+----------------------------+------------------------------+-----------------------------+-----------------------------+----------+----------+---------------+-----------+--------------+-----------------------+--------------------------+------------+----------------+------------+------------+-----------------------------------------------------------------------------------------------------------------------------------+---------------------------+--------------------+-----------------------------------+----------------------+--------------------------+--------------------+-----------------------------------+----------------------+----------------------------------+\n",
            "only showing top 20 rows\n",
            "\n"
          ]
        }
      ]
    },
    {
      "cell_type": "code",
      "source": [
        "import shutil\n",
        "shutil.make_archive(\"/content/merged_healthcare_data\", 'zip', \"/content\", \"merged_healthcare_data.csv\")\n",
        "\n",
        "# Provide a download link for the CSV file\n",
        "from google.colab import files\n",
        "files.download(\"/content/merged_healthcare_data.zip\")"
      ],
      "metadata": {
        "colab": {
          "base_uri": "https://localhost:8080/",
          "height": 17
        },
        "id": "3Exw5u6KU8pe",
        "outputId": "43a9608e-6d83-4e5a-cd13-b93edb960f4b"
      },
      "execution_count": null,
      "outputs": [
        {
          "output_type": "display_data",
          "data": {
            "text/plain": [
              "<IPython.core.display.Javascript object>"
            ],
            "application/javascript": [
              "\n",
              "    async function download(id, filename, size) {\n",
              "      if (!google.colab.kernel.accessAllowed) {\n",
              "        return;\n",
              "      }\n",
              "      const div = document.createElement('div');\n",
              "      const label = document.createElement('label');\n",
              "      label.textContent = `Downloading \"${filename}\": `;\n",
              "      div.appendChild(label);\n",
              "      const progress = document.createElement('progress');\n",
              "      progress.max = size;\n",
              "      div.appendChild(progress);\n",
              "      document.body.appendChild(div);\n",
              "\n",
              "      const buffers = [];\n",
              "      let downloaded = 0;\n",
              "\n",
              "      const channel = await google.colab.kernel.comms.open(id);\n",
              "      // Send a message to notify the kernel that we're ready.\n",
              "      channel.send({})\n",
              "\n",
              "      for await (const message of channel.messages) {\n",
              "        // Send a message to notify the kernel that we're ready.\n",
              "        channel.send({})\n",
              "        if (message.buffers) {\n",
              "          for (const buffer of message.buffers) {\n",
              "            buffers.push(buffer);\n",
              "            downloaded += buffer.byteLength;\n",
              "            progress.value = downloaded;\n",
              "          }\n",
              "        }\n",
              "      }\n",
              "      const blob = new Blob(buffers, {type: 'application/binary'});\n",
              "      const a = document.createElement('a');\n",
              "      a.href = window.URL.createObjectURL(blob);\n",
              "      a.download = filename;\n",
              "      div.appendChild(a);\n",
              "      a.click();\n",
              "      div.remove();\n",
              "    }\n",
              "  "
            ]
          },
          "metadata": {}
        },
        {
          "output_type": "display_data",
          "data": {
            "text/plain": [
              "<IPython.core.display.Javascript object>"
            ],
            "application/javascript": [
              "download(\"download_b730bf01-14b4-4609-8bae-9390f55bf12c\", \"merged_healthcare_data.zip\", 2089489)"
            ]
          },
          "metadata": {}
        }
      ]
    },
    {
      "cell_type": "code",
      "source": [
        "!pip install pyspark\n",
        "import matplotlib.pyplot as plt\n",
        "\n",
        "from pyspark.sql import SparkSession\n",
        "\n",
        "spark = SparkSession.builder.appName(\"HealthcareDataVisualizations\").getOrCreate()\n",
        "\n",
        "merged_output_path = \"/content/merged_healthcare_data.csv\"\n",
        "merged_df = spark.read.option(\"header\", \"true\").csv(merged_output_path)\n",
        "\n",
        "\n",
        "merged_pd_df = merged_df.toPandas()\n"
      ],
      "metadata": {
        "colab": {
          "base_uri": "https://localhost:8080/"
        },
        "id": "Y70EU5IDVReO",
        "outputId": "2cd05fc0-7883-4c6d-a95b-cc455258ab78"
      },
      "execution_count": null,
      "outputs": [
        {
          "output_type": "stream",
          "name": "stdout",
          "text": [
            "Requirement already satisfied: pyspark in /usr/local/lib/python3.10/dist-packages (3.5.3)\n",
            "Requirement already satisfied: py4j==0.10.9.7 in /usr/local/lib/python3.10/dist-packages (from pyspark) (0.10.9.7)\n"
          ]
        }
      ]
    },
    {
      "cell_type": "code",
      "source": [
        "plt.figure(figsize=(10,6))\n",
        "specialty_counts = merged_pd_df['specialty'].value_counts()\n",
        "specialty_counts.plot(kind='bar', color='skyblue')\n",
        "plt.title('Distribution of Providers by Specialty')\n",
        "plt.xlabel('Specialty')\n",
        "plt.ylabel('Number of Providers')\n",
        "plt.xticks(rotation=45, ha='right')\n",
        "plt.show()"
      ],
      "metadata": {
        "colab": {
          "base_uri": "https://localhost:8080/",
          "height": 645
        },
        "id": "EL7PxWO0VixR",
        "outputId": "aa1f52bc-98cc-4290-e1c1-fbea63b0c89d"
      },
      "execution_count": null,
      "outputs": [
        {
          "output_type": "display_data",
          "data": {
            "text/plain": [
              "<Figure size 1000x600 with 1 Axes>"
            ],
            "image/png": "[encoded data removed]"
          },
          "metadata": {}
        }
      ]
    },
    {
      "cell_type": "code",
      "source": [
        "import pandas as pd\n",
        "import matplotlib.pyplot as plt\n",
        "\n",
        "# Plotting the Claim Amount Distribution\n",
        "plt.figure(figsize=(10,6))\n",
        "merged_pd_df['claim_amount'] = pd.to_numeric(merged_pd_df['claim_amount'], errors='coerce')  # Ensure claim_amount is numeric\n",
        "plt.hist(merged_pd_df['claim_amount'].dropna(), bins=30, color='lightgreen', edgecolor='black')\n",
        "plt.title('Distribution of Claim Amounts')\n",
        "plt.xlabel('Claim Amount')\n",
        "plt.ylabel('Frequency')\n",
        "plt.show()\n"
      ],
      "metadata": {
        "colab": {
          "base_uri": "https://localhost:8080/",
          "height": 564
        },
        "id": "O03WrUTzVmCl",
        "outputId": "31ed6b07-460a-440e-98f5-9b68f60a89b2"
      },
      "execution_count": null,
      "outputs": [
        {
          "output_type": "display_data",
          "data": {
            "text/plain": [
              "<Figure size 1000x600 with 1 Axes>"
            ],
            "image/png": "[encoded data removed]"
          },
          "metadata": {}
        }
      ]
    },
    {
      "cell_type": "code",
      "source": [
        "merged_pd_df['years_of_experience'] = pd.to_numeric(merged_pd_df['years_of_experience'], errors='coerce')  # Ensure numeric\n",
        "avg_claim_by_experience = merged_pd_df.groupby('years_of_experience')['claim_amount'].mean()\n",
        "plt.figure(figsize=(10,6))\n",
        "avg_claim_by_experience.plot(kind='line', marker='o', color='coral')\n",
        "plt.title('Average Claim Amount by Provider Experience')\n",
        "plt.xlabel('Years of Experience')\n",
        "plt.ylabel('Average Claim Amount')\n",
        "plt.grid(True)\n",
        "plt.show()\n"
      ],
      "metadata": {
        "colab": {
          "base_uri": "https://localhost:8080/",
          "height": 564
        },
        "id": "yjo_VxZ6Vz21",
        "outputId": "096391e0-7ba0-437b-9f4e-e631fe99d479"
      },
      "execution_count": null,
      "outputs": [
        {
          "output_type": "display_data",
          "data": {
            "text/plain": [
              "<Figure size 1000x600 with 1 Axes>"
            ],
            "image/png": "[encoded data removed]"
          },
          "metadata": {}
        }
      ]
    },
    {
      "cell_type": "code",
      "source": [
        "top_providers = merged_pd_df['provider_name'].value_counts().nlargest(10)\n",
        "plt.figure(figsize=(10,6))\n",
        "top_providers.plot(kind='barh', color='lightblue')\n",
        "plt.title('Top 10 Providers with the Most Claims')\n",
        "plt.xlabel('Number of Claims')\n",
        "plt.ylabel('Provider Name')\n",
        "plt.show()"
      ],
      "metadata": {
        "colab": {
          "base_uri": "https://localhost:8080/",
          "height": 564
        },
        "id": "3wsu8bx3V307",
        "outputId": "a54c51d1-f5bc-424f-83ff-6b0892ee21ab"
      },
      "execution_count": null,
      "outputs": [
        {
          "output_type": "display_data",
          "data": {
            "text/plain": [
              "<Figure size 1000x600 with 1 Axes>"
            ],
            "image/png": "[encoded data removed]"
          },
          "metadata": {}
        }
      ]
    },
    {
      "cell_type": "code",
      "source": [
        "# Check the available columns in the dataset\n",
        "print(merged_pd_df.columns)\n",
        "\n",
        "\n"
      ],
      "metadata": {
        "colab": {
          "base_uri": "https://localhost:8080/"
        },
        "id": "RrjtT_JVV7gN",
        "outputId": "5aa272a2-8e61-4a8b-e62f-9e3b70b41edd"
      },
      "execution_count": null,
      "outputs": [
        {
          "output_type": "stream",
          "name": "stdout",
          "text": [
            "Index(['provider_id', 'provider_name', 'specialty', 'license_number',\n",
            "       'years_of_experience', 'zip_code', 'state', 'practice_size',\n",
            "       'is_hospital_affiliated', 'electronic_system_type',\n",
            "       'insurance_networks', 'office_hours', 'languages_spoken',\n",
            "       'certification_dates', 'rating', 'patient_demographics', 'claim_id',\n",
            "       'claim_date', 'submission_date', 'patient_age', 'patient_gender',\n",
            "       'diagnosis_codes', 'procedure_codes', 'claim_amount',\n",
            "       'service_location', 'is_emergency', 'is_inpatient', 'medical_notes',\n",
            "       'lab_results', 'medication_history', 'payment_status',\n",
            "       'days_to_process', 'claim_type', 'referred_by', 'patient_vitals',\n",
            "       'previous_visits', 'insurance_details'],\n",
            "      dtype='object')\n"
          ]
        }
      ]
    },
    {
      "cell_type": "code",
      "source": [
        "import seaborn as sns\n",
        "import matplotlib.pyplot as plt\n",
        "import pandas as pd\n",
        "\n",
        "# Convert the PySpark DataFrame to a Pandas DataFrame\n",
        "merged_pd_df = merged_df.toPandas()\n",
        "\n",
        "# Select numeric columns only\n",
        "numeric_columns = merged_pd_df.select_dtypes(include=['float64', 'int64'])\n",
        "\n",
        "# Check if any numeric columns exist and have valid data\n",
        "if numeric_columns.empty:\n",
        "    print(\"No valid numeric columns found for correlation.\")\n",
        "else:\n",
        "    # Drop columns with all NaN values\n",
        "    numeric_columns = numeric_columns.dropna(axis=1, how='all')\n",
        "\n",
        "    # Ensure there are still valid numeric columns after dropping NaNs\n",
        "    if numeric_columns.empty:\n",
        "        print(\"No valid data after dropping NaNs.\")\n",
        "    else:\n",
        "        # Calculate the correlation matrix\n",
        "        corr_matrix = numeric_columns.corr()\n",
        "\n",
        "        # Plot the heatmap\n",
        "        plt.figure(figsize=(12,8))\n",
        "        sns.heatmap(corr_matrix, annot=True, cmap='coolwarm', linewidths=0.5)\n",
        "        plt.title('Correlation Heatmap of Numeric Features')\n",
        "        plt.show()\n",
        "\n"
      ],
      "metadata": {
        "colab": {
          "base_uri": "https://localhost:8080/"
        },
        "id": "Ha1yXTXoWs7N",
        "outputId": "e00f2fa5-7269-4ce5-a6d5-07bf39ce5173"
      },
      "execution_count": null,
      "outputs": [
        {
          "output_type": "stream",
          "name": "stdout",
          "text": [
            "No valid numeric columns found for correlation.\n"
          ]
        }
      ]
    },
    {
      "cell_type": "code",
      "source": [
        "\n",
        "print(merged_pd_df.dtypes)\n",
        "\n"
      ],
      "metadata": {
        "colab": {
          "base_uri": "https://localhost:8080/"
        },
        "id": "5G3mCf_XYJZJ",
        "outputId": "943fb855-4eb2-41a3-a8eb-f59b6c7957db"
      },
      "execution_count": null,
      "outputs": [
        {
          "output_type": "stream",
          "name": "stdout",
          "text": [
            "provider_id               object\n",
            "provider_name             object\n",
            "specialty                 object\n",
            "license_number            object\n",
            "years_of_experience       object\n",
            "zip_code                  object\n",
            "state                     object\n",
            "practice_size             object\n",
            "is_hospital_affiliated    object\n",
            "electronic_system_type    object\n",
            "insurance_networks        object\n",
            "office_hours              object\n",
            "languages_spoken          object\n",
            "certification_dates       object\n",
            "rating                    object\n",
            "patient_demographics      object\n",
            "claim_id                  object\n",
            "claim_date                object\n",
            "submission_date           object\n",
            "patient_age               object\n",
            "patient_gender            object\n",
            "diagnosis_codes           object\n",
            "procedure_codes           object\n",
            "claim_amount              object\n",
            "service_location          object\n",
            "is_emergency              object\n",
            "is_inpatient              object\n",
            "medical_notes             object\n",
            "lab_results               object\n",
            "medication_history        object\n",
            "payment_status            object\n",
            "days_to_process           object\n",
            "claim_type                object\n",
            "referred_by               object\n",
            "patient_vitals            object\n",
            "previous_visits           object\n",
            "insurance_details         object\n",
            "dtype: object\n"
          ]
        }
      ]
    },
    {
      "cell_type": "code",
      "source": [
        "\n",
        "columns_to_convert = ['years_of_experience', 'claim_amount', 'days_to_process']\n",
        "\n",
        "for column in columns_to_convert:\n",
        "    merged_pd_df[column] = pd.to_numeric(merged_pd_df[column], errors='coerce')\n",
        "\n",
        "\n",
        "print(merged_pd_df.dtypes)\n",
        "\n",
        "numeric_columns = merged_pd_df.select_dtypes(include=['float64', 'int64'])\n",
        "\n",
        "if numeric_columns.empty:\n",
        "    print(\"No valid numeric columns found for correlation.\")\n",
        "else:\n",
        "    numeric_columns = numeric_columns.dropna(axis=1, how='all')\n",
        "\n",
        "    if numeric_columns.empty:\n",
        "        print(\"No valid data after dropping NaNs.\")\n",
        "    else:\n",
        "        corr_matrix = numeric_columns.corr()\n",
        "\n",
        "\n",
        "        plt.figure(figsize=(12,8))\n",
        "        sns.heatmap(corr_matrix, annot=True, cmap='coolwarm', linewidths=0.5)\n",
        "        plt.title('Correlation Heatmap of Numeric Features')\n",
        "        plt.show()\n"
      ],
      "metadata": {
        "colab": {
          "base_uri": "https://localhost:8080/",
          "height": 1000
        },
        "id": "QKP3l9NoYLZR",
        "outputId": "bb36f49d-a60d-49d6-fd40-5df31b0b3700"
      },
      "execution_count": null,
      "outputs": [
        {
          "output_type": "stream",
          "name": "stdout",
          "text": [
            "provider_id                object\n",
            "provider_name              object\n",
            "specialty                  object\n",
            "license_number             object\n",
            "years_of_experience         int64\n",
            "zip_code                   object\n",
            "state                      object\n",
            "practice_size              object\n",
            "is_hospital_affiliated     object\n",
            "electronic_system_type     object\n",
            "insurance_networks         object\n",
            "office_hours               object\n",
            "languages_spoken           object\n",
            "certification_dates        object\n",
            "rating                     object\n",
            "patient_demographics       object\n",
            "claim_id                   object\n",
            "claim_date                 object\n",
            "submission_date            object\n",
            "patient_age                object\n",
            "patient_gender             object\n",
            "diagnosis_codes            object\n",
            "procedure_codes            object\n",
            "claim_amount              float64\n",
            "service_location           object\n",
            "is_emergency               object\n",
            "is_inpatient               object\n",
            "medical_notes              object\n",
            "lab_results                object\n",
            "medication_history         object\n",
            "payment_status             object\n",
            "days_to_process           float64\n",
            "claim_type                 object\n",
            "referred_by                object\n",
            "patient_vitals             object\n",
            "previous_visits            object\n",
            "insurance_details          object\n",
            "dtype: object\n"
          ]
        },
        {
          "output_type": "display_data",
          "data": {
            "text/plain": [
              "<Figure size 1200x800 with 2 Axes>"
            ],
            "image/png": "[encoded data removed]"
          },
          "metadata": {}
        }
      ]
    },
    {
      "cell_type": "code",
      "source": [
        "from pyspark.sql.functions import col\n",
        "from pyspark.sql.types import DoubleType\n",
        "\n",
        "\n",
        "cleaned_df = cleaned_df.na.fill({'years_of_experience': 0, 'claim_amount': 0, 'days_to_process': 0})\n",
        "\n",
        "\n",
        "cleaned_df = cleaned_df.withColumn(\"years_of_experience\", col(\"years_of_experience\").cast(DoubleType()))\n",
        "cleaned_df = cleaned_df.withColumn(\"claim_amount\", col(\"claim_amount\").cast(DoubleType()))\n",
        "cleaned_df = cleaned_df.withColumn(\"days_to_process\", col(\"days_to_process\").cast(DoubleType()))\n",
        "\n",
        "\n",
        "assembler = VectorAssembler(inputCols=[\"years_of_experience\", \"claim_amount\", \"days_to_process\"], outputCol=\"features\")\n",
        "assembled_df = assembler.transform(cleaned_df)\n",
        "\n",
        "assembled_df.select(\"features\").show(truncate=False)\n",
        "\n",
        "scaler = MinMaxScaler(inputCol=\"features\", outputCol=\"scaled_features\")\n",
        "scaler_model = scaler.fit(assembled_df)\n",
        "scaled_df = scaler_model.transform(assembled_df)\n",
        "\n",
        "\n",
        "scaled_df.select(\"years_of_experience\", \"claim_amount\", \"days_to_process\", \"scaled_features\").show(5)\n",
        "\n"
      ],
      "metadata": {
        "colab": {
          "base_uri": "https://localhost:8080/"
        },
        "id": "8uHzQrYuYXAF",
        "outputId": "96657998-2d2c-4d41-b8a0-21eaab25c74e"
      },
      "execution_count": null,
      "outputs": [
        {
          "output_type": "stream",
          "name": "stdout",
          "text": [
            "+-----------------------------+\n",
            "|features                     |\n",
            "+-----------------------------+\n",
            "|[15.0,409.9700012207031,0.0] |\n",
            "|[15.0,601.739990234375,0.0]  |\n",
            "|[15.0,676.9600219726562,0.0] |\n",
            "|[15.0,450.67999267578125,0.0]|\n",
            "|[15.0,616.27001953125,0.0]   |\n",
            "|[15.0,404.989990234375,0.0]  |\n",
            "|[15.0,521.4600219726562,0.0] |\n",
            "|[15.0,441.8399963378906,0.0] |\n",
            "|[15.0,538.6300048828125,0.0] |\n",
            "|[15.0,744.9199829101562,0.0] |\n",
            "|[15.0,376.989990234375,0.0]  |\n",
            "|[15.0,605.739990234375,0.0]  |\n",
            "|[15.0,469.3999938964844,0.0] |\n",
            "|[15.0,508.6199951171875,0.0] |\n",
            "|[15.0,544.8300170898438,0.0] |\n",
            "|[15.0,595.2899780273438,0.0] |\n",
            "|[15.0,499.8599853515625,0.0] |\n",
            "|[15.0,453.44000244140625,0.0]|\n",
            "|[15.0,442.5799865722656,0.0] |\n",
            "|[15.0,409.0899963378906,0.0] |\n",
            "+-----------------------------+\n",
            "only showing top 20 rows\n",
            "\n",
            "+-------------------+------------------+---------------+--------------------+\n",
            "|years_of_experience|      claim_amount|days_to_process|     scaled_features|\n",
            "+-------------------+------------------+---------------+--------------------+\n",
            "|               15.0| 409.9700012207031|            0.0|[0.42424242424242...|\n",
            "|               15.0|  601.739990234375|            0.0|[0.42424242424242...|\n",
            "|               15.0| 676.9600219726562|            0.0|[0.42424242424242...|\n",
            "|               15.0|450.67999267578125|            0.0|[0.42424242424242...|\n",
            "|               15.0|   616.27001953125|            0.0|[0.42424242424242...|\n",
            "+-------------------+------------------+---------------+--------------------+\n",
            "only showing top 5 rows\n",
            "\n"
          ]
        }
      ]
    },
    {
      "cell_type": "code",
      "source": [
        "\n",
        "if 'specialty_index' in scaled_df.columns:\n",
        "    scaled_df = scaled_df.drop('specialty_index')\n",
        "\n",
        "\n",
        "indexer = StringIndexer(inputCol=\"specialty\", outputCol=\"specialty_index\")\n",
        "indexed_df = indexer.fit(scaled_df).transform(scaled_df)\n",
        "\n",
        "\n",
        "encoder = OneHotEncoder(inputCol=\"specialty_index\", outputCol=\"specialty_vec\")\n",
        "encoded_df = encoder.fit(indexed_df).transform(indexed_df)\n",
        "\n",
        "\n",
        "encoded_df.select(\"specialty\", \"specialty_index\", \"specialty_vec\").show(5)\n",
        "\n"
      ],
      "metadata": {
        "colab": {
          "base_uri": "https://localhost:8080/"
        },
        "id": "JXBpgF0AlXgq",
        "outputId": "f39a2294-d081-4acc-ad84-dbdc93c309b0"
      },
      "execution_count": null,
      "outputs": [
        {
          "output_type": "stream",
          "name": "stdout",
          "text": [
            "+----------+---------------+-------------+\n",
            "| specialty|specialty_index|specialty_vec|\n",
            "+----------+---------------+-------------+\n",
            "|Pediatrics|            1.0|(5,[1],[1.0])|\n",
            "|Pediatrics|            1.0|(5,[1],[1.0])|\n",
            "|Pediatrics|            1.0|(5,[1],[1.0])|\n",
            "|Pediatrics|            1.0|(5,[1],[1.0])|\n",
            "|Pediatrics|            1.0|(5,[1],[1.0])|\n",
            "+----------+---------------+-------------+\n",
            "only showing top 5 rows\n",
            "\n"
          ]
        }
      ]
    },
    {
      "cell_type": "code",
      "source": [
        "# Check distinct values in the specialty column\n",
        "encoded_df.select(\"specialty\").distinct().show()\n"
      ],
      "metadata": {
        "colab": {
          "base_uri": "https://localhost:8080/"
        },
        "id": "zdDLNp53luX5",
        "outputId": "27299d30-5757-4731-882e-d4f720f8b363"
      },
      "execution_count": null,
      "outputs": [
        {
          "output_type": "stream",
          "name": "stdout",
          "text": [
            "+-----------------+\n",
            "|        specialty|\n",
            "+-----------------+\n",
            "|  Family Practice|\n",
            "|        Neurology|\n",
            "|       Pediatrics|\n",
            "|       Cardiology|\n",
            "|Internal Medicine|\n",
            "|      Orthopedics|\n",
            "+-----------------+\n",
            "\n"
          ]
        }
      ]
    },
    {
      "cell_type": "code",
      "source": [
        "\n",
        "encoded_df.select(\"specialty\", \"specialty_index\", \"specialty_vec\").distinct().show(truncate=False)\n"
      ],
      "metadata": {
        "colab": {
          "base_uri": "https://localhost:8080/"
        },
        "id": "ChE724CImBtz",
        "outputId": "1d538058-3575-4ee0-9252-565a9e3aa524"
      },
      "execution_count": null,
      "outputs": [
        {
          "output_type": "stream",
          "name": "stdout",
          "text": [
            "+-----------------+---------------+-------------+\n",
            "|specialty        |specialty_index|specialty_vec|\n",
            "+-----------------+---------------+-------------+\n",
            "|Family Practice  |0.0            |(5,[0],[1.0])|\n",
            "|Pediatrics       |1.0            |(5,[1],[1.0])|\n",
            "|Orthopedics      |3.0            |(5,[3],[1.0])|\n",
            "|Internal Medicine|2.0            |(5,[2],[1.0])|\n",
            "|Neurology        |5.0            |(5,[],[])    |\n",
            "|Cardiology       |4.0            |(5,[4],[1.0])|\n",
            "+-----------------+---------------+-------------+\n",
            "\n"
          ]
        }
      ]
    },
    {
      "cell_type": "code",
      "source": [
        "from pyspark.ml.feature import StandardScaler, Bucketizer, VectorAssembler\n",
        "\n",
        "\n",
        "if 'scaled_features' in expanded_lr_df.columns:\n",
        "    expanded_lr_df = expanded_lr_df.drop('scaled_features')\n",
        "\n",
        "scaler = StandardScaler(inputCol=\"expanded_features\", outputCol=\"scaled_features\", withMean=True, withStd=True)\n",
        "scaler_model = scaler.fit(expanded_lr_df)\n",
        "scaled_lr_df = scaler_model.transform(expanded_lr_df)\n",
        "\n",
        "scaled_lr_df.select(\"scaled_features\").show(5)\n",
        "\n",
        "splits = [-float(\"inf\"), 200, 500, float(\"inf\")]\n",
        "bucketizer = Bucketizer(splits=splits, inputCol=\"claim_amount\", outputCol=\"claim_amount_bucket\")\n",
        "\n",
        "binned_df = bucketizer.transform(scaled_lr_df)\n",
        "\n",
        "binned_df.select(\"claim_amount\", \"claim_amount_bucket\").show(5)\n",
        "\n"
      ],
      "metadata": {
        "colab": {
          "base_uri": "https://localhost:8080/"
        },
        "id": "gTR39nDzmKsy",
        "outputId": "f8fe6196-1ffd-4979-c950-e72b800b279a"
      },
      "execution_count": null,
      "outputs": [
        {
          "output_type": "stream",
          "name": "stdout",
          "text": [
            "+--------------------+\n",
            "|     scaled_features|\n",
            "+--------------------+\n",
            "|[-0.2325515578891...|\n",
            "|[-0.2325515578891...|\n",
            "|[-0.2325515578891...|\n",
            "|[-0.2325515578891...|\n",
            "|[-0.2325515578891...|\n",
            "+--------------------+\n",
            "only showing top 5 rows\n",
            "\n",
            "+------------------+-------------------+\n",
            "|      claim_amount|claim_amount_bucket|\n",
            "+------------------+-------------------+\n",
            "| 409.9700012207031|                1.0|\n",
            "|  601.739990234375|                2.0|\n",
            "| 676.9600219726562|                2.0|\n",
            "|450.67999267578125|                1.0|\n",
            "|   616.27001953125|                2.0|\n",
            "+------------------+-------------------+\n",
            "only showing top 5 rows\n",
            "\n"
          ]
        }
      ]
    },
    {
      "cell_type": "code",
      "source": [
        "\n",
        "train_df, test_df = binned_df.randomSplit([0.8, 0.2], seed=12345)\n",
        "\n",
        "\n",
        "print(f\"Training set size: {train_df.count()}\")\n",
        "print(f\"Test set size: {test_df.count()}\")\n"
      ],
      "metadata": {
        "colab": {
          "base_uri": "https://localhost:8080/"
        },
        "id": "2ApaSai3nytK",
        "outputId": "71d9f6ac-c9dc-4034-deaf-751ad481ba40"
      },
      "execution_count": null,
      "outputs": [
        {
          "output_type": "stream",
          "name": "stdout",
          "text": [
            "Training set size: 19882\n",
            "Test set size: 5042\n"
          ]
        }
      ]
    },
    {
      "cell_type": "code",
      "source": [
        "from pyspark.ml.feature import VectorAssembler\n",
        "\n",
        "\n",
        "rf_assembler = VectorAssembler(inputCols=[\"years_of_experience\", \"claim_amount_bucket\", \"specialty_vec\"], outputCol=\"features_rf\")\n",
        "rf_preprocessed_df = rf_assembler.transform(binned_df)\n",
        "\n",
        "\n",
        "rf_preprocessed_df.select(\"features_rf\").show(5)\n",
        "\n"
      ],
      "metadata": {
        "colab": {
          "base_uri": "https://localhost:8080/"
        },
        "id": "H6-gBQwOoEcb",
        "outputId": "95327e21-b2b3-4933-ef86-8b82b84f74ce"
      },
      "execution_count": null,
      "outputs": [
        {
          "output_type": "stream",
          "name": "stdout",
          "text": [
            "+--------------------+\n",
            "|         features_rf|\n",
            "+--------------------+\n",
            "|(7,[0,1,3],[15.0,...|\n",
            "|(7,[0,1,3],[15.0,...|\n",
            "|(7,[0,1,3],[15.0,...|\n",
            "|(7,[0,1,3],[15.0,...|\n",
            "|(7,[0,1,3],[15.0,...|\n",
            "+--------------------+\n",
            "only showing top 5 rows\n",
            "\n"
          ]
        }
      ]
    },
    {
      "cell_type": "code",
      "source": [
        "\n",
        "train_df, test_df = rf_preprocessed_df.randomSplit([0.8, 0.2], seed=12345)\n",
        "\n",
        "\n",
        "train_df.select(\"features_rf\").show(5)\n",
        "test_df.select(\"features_rf\").show(5)\n",
        "\n"
      ],
      "metadata": {
        "colab": {
          "base_uri": "https://localhost:8080/"
        },
        "id": "C58oITVGoXSw",
        "outputId": "b83c75bd-79c6-41c5-ba0b-169521129d62"
      },
      "execution_count": null,
      "outputs": [
        {
          "output_type": "stream",
          "name": "stdout",
          "text": [
            "+--------------------+\n",
            "|         features_rf|\n",
            "+--------------------+\n",
            "|(7,[0,1,3],[15.0,...|\n",
            "|(7,[0,1,3],[15.0,...|\n",
            "|(7,[0,1,3],[15.0,...|\n",
            "|(7,[0,3],[15.0,1.0])|\n",
            "|(7,[0,1,3],[15.0,...|\n",
            "+--------------------+\n",
            "only showing top 5 rows\n",
            "\n",
            "+--------------------+\n",
            "|         features_rf|\n",
            "+--------------------+\n",
            "|(7,[0,1,3],[15.0,...|\n",
            "|(7,[0,1,3],[15.0,...|\n",
            "|(7,[0,1,3],[15.0,...|\n",
            "|(7,[0,1,3],[15.0,...|\n",
            "|(7,[0,1,3],[15.0,...|\n",
            "+--------------------+\n",
            "only showing top 5 rows\n",
            "\n"
          ]
        }
      ]
    },
    {
      "cell_type": "code",
      "source": [
        "\n",
        "train_df.printSchema()\n"
      ],
      "metadata": {
        "colab": {
          "base_uri": "https://localhost:8080/"
        },
        "id": "T7DRAHzLpHSH",
        "outputId": "75806b21-5056-4398-92b2-51c4db27d2e7"
      },
      "execution_count": null,
      "outputs": [
        {
          "output_type": "stream",
          "name": "stdout",
          "text": [
            "root\n",
            " |-- provider_id: string (nullable = true)\n",
            " |-- specialty: string (nullable = true)\n",
            " |-- years_of_experience: double (nullable = false)\n",
            " |-- zip_code: string (nullable = true)\n",
            " |-- state: string (nullable = true)\n",
            " |-- practice_size: string (nullable = true)\n",
            " |-- is_hospital_affiliated: string (nullable = true)\n",
            " |-- electronic_system_type: string (nullable = true)\n",
            " |-- insurance_networks: string (nullable = true)\n",
            " |-- languages_spoken: string (nullable = true)\n",
            " |-- certification_dates: string (nullable = true)\n",
            " |-- rating: string (nullable = true)\n",
            " |-- patient_demographics: string (nullable = true)\n",
            " |-- claim_id: string (nullable = true)\n",
            " |-- claim_date: string (nullable = true)\n",
            " |-- submission_date: string (nullable = true)\n",
            " |-- patient_age: string (nullable = true)\n",
            " |-- patient_gender: string (nullable = true)\n",
            " |-- diagnosis_codes: string (nullable = true)\n",
            " |-- procedure_codes: string (nullable = true)\n",
            " |-- claim_amount: double (nullable = false)\n",
            " |-- service_location: string (nullable = true)\n",
            " |-- is_emergency: string (nullable = true)\n",
            " |-- is_inpatient: string (nullable = true)\n",
            " |-- medical_notes: string (nullable = true)\n",
            " |-- lab_results: string (nullable = true)\n",
            " |-- medication_history: string (nullable = true)\n",
            " |-- payment_status: string (nullable = true)\n",
            " |-- days_to_process: double (nullable = false)\n",
            " |-- claim_type: string (nullable = true)\n",
            " |-- referred_by: string (nullable = true)\n",
            " |-- patient_vitals: string (nullable = true)\n",
            " |-- previous_visits: string (nullable = true)\n",
            " |-- insurance_details: string (nullable = true)\n",
            " |-- features: vector (nullable = true)\n",
            " |-- specialty_index: double (nullable = false)\n",
            " |-- specialty_vec: vector (nullable = true)\n",
            " |-- experience_claim_interaction: double (nullable = false)\n",
            " |-- poly_features: vector (nullable = true)\n",
            " |-- expanded_features: vector (nullable = true)\n",
            " |-- scaled_features: vector (nullable = true)\n",
            " |-- claim_amount_bucket: double (nullable = false)\n",
            " |-- features_rf: vector (nullable = true)\n",
            "\n"
          ]
        }
      ]
    },
    {
      "cell_type": "code",
      "source": [
        "from pyspark.sql import functions as F\n",
        "\n",
        "merged_df = merged_df.withColumn(\"fraud_label\",\n",
        "                                 F.when((F.col(\"claim_amount\") > 500) & (F.col(\"payment_status\") == \"denied\"), 1).otherwise(0))\n",
        "\n",
        "merged_df.select(\"claim_amount\", \"payment_status\", \"fraud_label\").show(5)\n"
      ],
      "metadata": {
        "colab": {
          "base_uri": "https://localhost:8080/"
        },
        "id": "4numYKiUqZID",
        "outputId": "c5039f0a-cafb-4d67-9ef0-aab099c92596"
      },
      "execution_count": null,
      "outputs": [
        {
          "output_type": "stream",
          "name": "stdout",
          "text": [
            "+------------+--------------------+-----------+\n",
            "|claim_amount|      payment_status|fraud_label|\n",
            "+------------+--------------------+-----------+\n",
            "|      409.97|\"\"reference_range...|          0|\n",
            "|      601.74|\"\"reference_range...|          0|\n",
            "|      676.96|\"\"reference_range...|          0|\n",
            "|      450.68|\"\"reference_range...|          0|\n",
            "|      616.27|\"\"reference_range...|          0|\n",
            "+------------+--------------------+-----------+\n",
            "only showing top 5 rows\n",
            "\n"
          ]
        }
      ]
    },
    {
      "cell_type": "code",
      "source": [
        "\n",
        "merged_df.select(\"payment_status\").distinct().show(truncate=False)\n"
      ],
      "metadata": {
        "colab": {
          "base_uri": "https://localhost:8080/"
        },
        "id": "kj_Sqpsyqmrm",
        "outputId": "27d555c2-91eb-472d-e60c-ae17be7f4a8e"
      },
      "execution_count": null,
      "outputs": [
        {
          "output_type": "stream",
          "name": "stdout",
          "text": [
            "+----------------------------------+\n",
            "|payment_status                    |\n",
            "+----------------------------------+\n",
            "|\"\"reference_range\"\": \"\"1.23-7.71\"\"|\n",
            "|\"\"reference_range\"\": \"\"1.96-6.77\"\"|\n",
            "|\"\"reference_range\"\": \"\"2.12-6.72\"\"|\n",
            "|\"\"reference_range\"\": \"\"4.19-6.14\"\"|\n",
            "|\"\"reference_range\"\": \"\"4.7-8.41\"\" |\n",
            "|\"\"reference_range\"\": \"\"0.4-5.79\"\" |\n",
            "|\"\"reference_range\"\": \"\"2.48-7.19\"\"|\n",
            "|\"\"reference_range\"\": \"\"2.61-5.17\"\"|\n",
            "|\"\"reference_range\"\": \"\"1.25-7.02\"\"|\n",
            "|\"\"reference_range\"\": \"\"0.52-5.89\"\"|\n",
            "|\"\"reference_range\"\": \"\"0.07-9.62\"\"|\n",
            "|\"\"reference_range\"\": \"\"1.64-7.89\"\"|\n",
            "|\"\"reference_range\"\": \"\"0.89-6.98\"\"|\n",
            "|\"\"reference_range\"\": \"\"1.18-8.09\"\"|\n",
            "|\"\"reference_range\"\": \"\"1.29-8.34\"\"|\n",
            "|\"\"reference_range\"\": \"\"2.14-9.61\"\"|\n",
            "|\"\"reference_range\"\": \"\"3.63-7.32\"\"|\n",
            "|\"\"reference_range\"\": \"\"3.85-8.14\"\"|\n",
            "|\"\"reference_range\"\": \"\"1.2-9.35\"\" |\n",
            "|\"\"reference_range\"\": \"\"0.03-8.47\"\"|\n",
            "+----------------------------------+\n",
            "only showing top 20 rows\n",
            "\n"
          ]
        }
      ]
    },
    {
      "cell_type": "code",
      "source": [
        "\n",
        "fraud_threshold = 500\n",
        "merged_df = merged_df.withColumn(\"fraud_label\",\n",
        "                                 F.when(F.col(\"claim_amount\") > fraud_threshold, 1).otherwise(0))\n",
        "\n",
        "\n",
        "merged_df.select(\"claim_amount\", \"fraud_label\").show(5)\n"
      ],
      "metadata": {
        "colab": {
          "base_uri": "https://localhost:8080/"
        },
        "id": "gNo-QDe7q623",
        "outputId": "c188f5db-db6e-4895-e6fd-7af0fb88717b"
      },
      "execution_count": null,
      "outputs": [
        {
          "output_type": "stream",
          "name": "stdout",
          "text": [
            "+------------+-----------+\n",
            "|claim_amount|fraud_label|\n",
            "+------------+-----------+\n",
            "|      409.97|          0|\n",
            "|      601.74|          1|\n",
            "|      676.96|          1|\n",
            "|      450.68|          0|\n",
            "|      616.27|          1|\n",
            "+------------+-----------+\n",
            "only showing top 5 rows\n",
            "\n"
          ]
        }
      ]
    },
    {
      "cell_type": "code",
      "source": [
        "\n",
        "train_df, test_df = merged_df.randomSplit([0.8, 0.2], seed=12345)\n",
        "\n",
        "\n",
        "train_df.select(\"fraud_label\").show(5)\n",
        "test_df.select(\"fraud_label\").show(5)\n"
      ],
      "metadata": {
        "colab": {
          "base_uri": "https://localhost:8080/"
        },
        "id": "KG5SrH9VrF10",
        "outputId": "b7ebbce2-8c83-416c-bc6e-15fee6f03db2"
      },
      "execution_count": null,
      "outputs": [
        {
          "output_type": "stream",
          "name": "stdout",
          "text": [
            "+-----------+\n",
            "|fraud_label|\n",
            "+-----------+\n",
            "|          1|\n",
            "|          1|\n",
            "|          0|\n",
            "|          0|\n",
            "|          0|\n",
            "+-----------+\n",
            "only showing top 5 rows\n",
            "\n",
            "+-----------+\n",
            "|fraud_label|\n",
            "+-----------+\n",
            "|          1|\n",
            "|          0|\n",
            "|          0|\n",
            "|          0|\n",
            "|          1|\n",
            "+-----------+\n",
            "only showing top 5 rows\n",
            "\n"
          ]
        }
      ]
    },
    {
      "cell_type": "code",
      "source": [
        "\n",
        "merged_df.printSchema()\n"
      ],
      "metadata": {
        "colab": {
          "base_uri": "https://localhost:8080/"
        },
        "id": "BzNnltSGrSEI",
        "outputId": "b271af8f-2ea5-49f2-d30e-7adb00690b09"
      },
      "execution_count": null,
      "outputs": [
        {
          "output_type": "stream",
          "name": "stdout",
          "text": [
            "root\n",
            " |-- provider_id: string (nullable = true)\n",
            " |-- provider_name: string (nullable = true)\n",
            " |-- specialty: string (nullable = true)\n",
            " |-- license_number: string (nullable = true)\n",
            " |-- years_of_experience: string (nullable = true)\n",
            " |-- zip_code: string (nullable = true)\n",
            " |-- state: string (nullable = true)\n",
            " |-- practice_size: string (nullable = true)\n",
            " |-- is_hospital_affiliated: string (nullable = true)\n",
            " |-- electronic_system_type: string (nullable = true)\n",
            " |-- insurance_networks: string (nullable = true)\n",
            " |-- office_hours: string (nullable = true)\n",
            " |-- languages_spoken: string (nullable = true)\n",
            " |-- certification_dates: string (nullable = true)\n",
            " |-- rating: string (nullable = true)\n",
            " |-- patient_demographics: string (nullable = true)\n",
            " |-- claim_id: string (nullable = true)\n",
            " |-- claim_date: string (nullable = true)\n",
            " |-- submission_date: string (nullable = true)\n",
            " |-- patient_age: string (nullable = true)\n",
            " |-- patient_gender: string (nullable = true)\n",
            " |-- diagnosis_codes: string (nullable = true)\n",
            " |-- procedure_codes: string (nullable = true)\n",
            " |-- claim_amount: string (nullable = true)\n",
            " |-- service_location: string (nullable = true)\n",
            " |-- is_emergency: string (nullable = true)\n",
            " |-- is_inpatient: string (nullable = true)\n",
            " |-- medical_notes: string (nullable = true)\n",
            " |-- lab_results: string (nullable = true)\n",
            " |-- medication_history: string (nullable = true)\n",
            " |-- payment_status: string (nullable = true)\n",
            " |-- days_to_process: string (nullable = true)\n",
            " |-- claim_type: string (nullable = true)\n",
            " |-- referred_by: string (nullable = true)\n",
            " |-- patient_vitals: string (nullable = true)\n",
            " |-- previous_visits: string (nullable = true)\n",
            " |-- insurance_details: string (nullable = true)\n",
            " |-- fraud_label: integer (nullable = false)\n",
            "\n"
          ]
        }
      ]
    },
    {
      "cell_type": "code",
      "source": [
        "from pyspark.ml.feature import StringIndexer, OneHotEncoder\n",
        "\n",
        "\n",
        "indexer = StringIndexer(inputCol=\"specialty\", outputCol=\"specialty_index\")\n",
        "indexed_df = indexer.fit(merged_df).transform(merged_df)\n",
        "\n",
        "encoder = OneHotEncoder(inputCol=\"specialty_index\", outputCol=\"specialty_vec\")\n",
        "encoded_df = encoder.fit(indexed_df).transform(indexed_df)\n",
        "\n",
        "\n",
        "encoded_df.select(\"specialty\", \"specialty_index\", \"specialty_vec\").show(5)\n"
      ],
      "metadata": {
        "colab": {
          "base_uri": "https://localhost:8080/"
        },
        "id": "ta4_rBvlrcoM",
        "outputId": "13123e2b-a9cd-49d9-9f8b-3cae0af7d9d9"
      },
      "execution_count": null,
      "outputs": [
        {
          "output_type": "stream",
          "name": "stdout",
          "text": [
            "+----------+---------------+-------------+\n",
            "| specialty|specialty_index|specialty_vec|\n",
            "+----------+---------------+-------------+\n",
            "|Pediatrics|            1.0|(5,[1],[1.0])|\n",
            "|Pediatrics|            1.0|(5,[1],[1.0])|\n",
            "|Pediatrics|            1.0|(5,[1],[1.0])|\n",
            "|Pediatrics|            1.0|(5,[1],[1.0])|\n",
            "|Pediatrics|            1.0|(5,[1],[1.0])|\n",
            "+----------+---------------+-------------+\n",
            "only showing top 5 rows\n",
            "\n"
          ]
        }
      ]
    },
    {
      "cell_type": "code",
      "source": [
        "\n",
        "encoded_df = encoded_df.withColumn(\"years_of_experience\", encoded_df[\"years_of_experience\"].cast(\"double\"))\n",
        "encoded_df = encoded_df.withColumn(\"claim_amount\", encoded_df[\"claim_amount\"].cast(\"double\"))\n",
        "\n",
        "\n",
        "encoded_df.select(\"years_of_experience\", \"claim_amount\").printSchema()\n",
        "\n"
      ],
      "metadata": {
        "colab": {
          "base_uri": "https://localhost:8080/"
        },
        "id": "SKq1tlStsAWr",
        "outputId": "74fd8edf-7df4-42ab-f092-8abf0733e030"
      },
      "execution_count": null,
      "outputs": [
        {
          "output_type": "stream",
          "name": "stdout",
          "text": [
            "root\n",
            " |-- years_of_experience: double (nullable = true)\n",
            " |-- claim_amount: double (nullable = true)\n",
            "\n"
          ]
        }
      ]
    },
    {
      "cell_type": "code",
      "source": [
        "from pyspark.ml.feature import StringIndexer, OneHotEncoder\n",
        "\n",
        "\n",
        "indexer = StringIndexer(inputCol=\"specialty\", outputCol=\"specialty_index\")\n",
        "indexed_df = indexer.fit(merged_df).transform(merged_df)\n",
        "\n",
        "\n",
        "encoder = OneHotEncoder(inputCol=\"specialty_index\", outputCol=\"specialty_vec\")\n",
        "encoded_df = encoder.fit(indexed_df).transform(indexed_df)\n",
        "\n",
        "encoded_df.select(\"specialty\", \"specialty_index\", \"specialty_vec\").show(5)\n"
      ],
      "metadata": {
        "colab": {
          "base_uri": "https://localhost:8080/"
        },
        "id": "0V02CiresVtR",
        "outputId": "86f96499-a5a2-445e-a668-92d16ae2451e"
      },
      "execution_count": null,
      "outputs": [
        {
          "output_type": "stream",
          "name": "stdout",
          "text": [
            "+----------+---------------+-------------+\n",
            "| specialty|specialty_index|specialty_vec|\n",
            "+----------+---------------+-------------+\n",
            "|Pediatrics|            1.0|(5,[1],[1.0])|\n",
            "|Pediatrics|            1.0|(5,[1],[1.0])|\n",
            "|Pediatrics|            1.0|(5,[1],[1.0])|\n",
            "|Pediatrics|            1.0|(5,[1],[1.0])|\n",
            "|Pediatrics|            1.0|(5,[1],[1.0])|\n",
            "+----------+---------------+-------------+\n",
            "only showing top 5 rows\n",
            "\n"
          ]
        }
      ]
    },
    {
      "cell_type": "code",
      "source": [
        "\n",
        "encoded_df.printSchema()\n"
      ],
      "metadata": {
        "colab": {
          "base_uri": "https://localhost:8080/"
        },
        "id": "cH--3XK2srlI",
        "outputId": "c1a15db5-61ec-4be0-eb0d-327e44829104"
      },
      "execution_count": null,
      "outputs": [
        {
          "output_type": "stream",
          "name": "stdout",
          "text": [
            "root\n",
            " |-- provider_id: string (nullable = true)\n",
            " |-- provider_name: string (nullable = true)\n",
            " |-- specialty: string (nullable = true)\n",
            " |-- license_number: string (nullable = true)\n",
            " |-- years_of_experience: string (nullable = true)\n",
            " |-- zip_code: string (nullable = true)\n",
            " |-- state: string (nullable = true)\n",
            " |-- practice_size: string (nullable = true)\n",
            " |-- is_hospital_affiliated: string (nullable = true)\n",
            " |-- electronic_system_type: string (nullable = true)\n",
            " |-- insurance_networks: string (nullable = true)\n",
            " |-- office_hours: string (nullable = true)\n",
            " |-- languages_spoken: string (nullable = true)\n",
            " |-- certification_dates: string (nullable = true)\n",
            " |-- rating: string (nullable = true)\n",
            " |-- patient_demographics: string (nullable = true)\n",
            " |-- claim_id: string (nullable = true)\n",
            " |-- claim_date: string (nullable = true)\n",
            " |-- submission_date: string (nullable = true)\n",
            " |-- patient_age: string (nullable = true)\n",
            " |-- patient_gender: string (nullable = true)\n",
            " |-- diagnosis_codes: string (nullable = true)\n",
            " |-- procedure_codes: string (nullable = true)\n",
            " |-- claim_amount: string (nullable = true)\n",
            " |-- service_location: string (nullable = true)\n",
            " |-- is_emergency: string (nullable = true)\n",
            " |-- is_inpatient: string (nullable = true)\n",
            " |-- medical_notes: string (nullable = true)\n",
            " |-- lab_results: string (nullable = true)\n",
            " |-- medication_history: string (nullable = true)\n",
            " |-- payment_status: string (nullable = true)\n",
            " |-- days_to_process: string (nullable = true)\n",
            " |-- claim_type: string (nullable = true)\n",
            " |-- referred_by: string (nullable = true)\n",
            " |-- patient_vitals: string (nullable = true)\n",
            " |-- previous_visits: string (nullable = true)\n",
            " |-- insurance_details: string (nullable = true)\n",
            " |-- fraud_label: integer (nullable = false)\n",
            " |-- specialty_index: double (nullable = false)\n",
            " |-- specialty_vec: vector (nullable = true)\n",
            "\n"
          ]
        }
      ]
    },
    {
      "cell_type": "code",
      "source": [
        "\n",
        "encoded_df = encoded_df.withColumn(\"years_of_experience\", encoded_df[\"years_of_experience\"].cast(\"double\"))\n",
        "encoded_df = encoded_df.withColumn(\"claim_amount\", encoded_df[\"claim_amount\"].cast(\"double\"))\n",
        "\n",
        "encoded_df.select(\"years_of_experience\", \"claim_amount\").printSchema()\n",
        "\n"
      ],
      "metadata": {
        "colab": {
          "base_uri": "https://localhost:8080/"
        },
        "id": "8NzcKY9gsscQ",
        "outputId": "4955ddcd-1905-461e-96a2-9c5e907291d9"
      },
      "execution_count": null,
      "outputs": [
        {
          "output_type": "stream",
          "name": "stdout",
          "text": [
            "root\n",
            " |-- years_of_experience: double (nullable = true)\n",
            " |-- claim_amount: double (nullable = true)\n",
            "\n"
          ]
        }
      ]
    },
    {
      "cell_type": "code",
      "source": [
        "from pyspark.ml.feature import StringIndexer, OneHotEncoder\n",
        "\n",
        "\n",
        "indexer = StringIndexer(inputCol=\"specialty\", outputCol=\"specialty_index\")\n",
        "encoded_train_df = indexer.fit(train_df).transform(train_df)\n",
        "encoded_test_df = indexer.fit(test_df).transform(test_df)\n",
        "\n",
        "\n",
        "encoder = OneHotEncoder(inputCol=\"specialty_index\", outputCol=\"specialty_vec\")\n",
        "encoded_train_df = encoder.fit(encoded_train_df).transform(encoded_train_df)\n",
        "encoded_test_df = encoder.fit(encoded_test_df).transform(encoded_test_df)\n",
        "\n",
        "encoded_train_df.select(\"specialty\", \"specialty_index\", \"specialty_vec\").show(5)\n",
        "encoded_test_df.select(\"specialty\", \"specialty_index\", \"specialty_vec\").show(5)\n"
      ],
      "metadata": {
        "colab": {
          "base_uri": "https://localhost:8080/"
        },
        "id": "UyBzkWzqtSnS",
        "outputId": "3544f63c-091c-423b-824c-0635e73f00eb"
      },
      "execution_count": null,
      "outputs": [
        {
          "output_type": "stream",
          "name": "stdout",
          "text": [
            "+----------+---------------+-------------+\n",
            "| specialty|specialty_index|specialty_vec|\n",
            "+----------+---------------+-------------+\n",
            "|Pediatrics|            1.0|(5,[1],[1.0])|\n",
            "|Pediatrics|            1.0|(5,[1],[1.0])|\n",
            "|Pediatrics|            1.0|(5,[1],[1.0])|\n",
            "|Pediatrics|            1.0|(5,[1],[1.0])|\n",
            "|Pediatrics|            1.0|(5,[1],[1.0])|\n",
            "+----------+---------------+-------------+\n",
            "only showing top 5 rows\n",
            "\n",
            "+----------+---------------+-------------+\n",
            "| specialty|specialty_index|specialty_vec|\n",
            "+----------+---------------+-------------+\n",
            "|Pediatrics|            1.0|(5,[1],[1.0])|\n",
            "|Pediatrics|            1.0|(5,[1],[1.0])|\n",
            "|Pediatrics|            1.0|(5,[1],[1.0])|\n",
            "|Pediatrics|            1.0|(5,[1],[1.0])|\n",
            "|Pediatrics|            1.0|(5,[1],[1.0])|\n",
            "+----------+---------------+-------------+\n",
            "only showing top 5 rows\n",
            "\n"
          ]
        }
      ]
    },
    {
      "cell_type": "code",
      "source": [
        "\n",
        "encoded_train_df = encoded_train_df.withColumn(\"years_of_experience\", encoded_train_df[\"years_of_experience\"].cast(\"double\"))\n",
        "encoded_train_df = encoded_train_df.withColumn(\"claim_amount\", encoded_train_df[\"claim_amount\"].cast(\"double\"))\n",
        "\n",
        "encoded_test_df = encoded_test_df.withColumn(\"years_of_experience\", encoded_test_df[\"years_of_experience\"].cast(\"double\"))\n",
        "encoded_test_df = encoded_test_df.withColumn(\"claim_amount\", encoded_test_df[\"claim_amount\"].cast(\"double\"))\n",
        "\n",
        "\n",
        "encoded_train_df.select(\"years_of_experience\", \"claim_amount\").printSchema()\n",
        "encoded_test_df.select(\"years_of_experience\", \"claim_amount\").printSchema()\n"
      ],
      "metadata": {
        "colab": {
          "base_uri": "https://localhost:8080/"
        },
        "id": "V99GMaJHt1WQ",
        "outputId": "13c0b7ce-4a20-4eb4-8358-7932bb052e44"
      },
      "execution_count": null,
      "outputs": [
        {
          "output_type": "stream",
          "name": "stdout",
          "text": [
            "root\n",
            " |-- years_of_experience: double (nullable = true)\n",
            " |-- claim_amount: double (nullable = true)\n",
            "\n",
            "root\n",
            " |-- years_of_experience: double (nullable = true)\n",
            " |-- claim_amount: double (nullable = true)\n",
            "\n"
          ]
        }
      ]
    },
    {
      "cell_type": "code",
      "source": [
        "from pyspark.ml.feature import VectorAssembler\n",
        "\n",
        "rf_assembler = VectorAssembler(inputCols=[\"years_of_experience\", \"claim_amount\", \"specialty_vec\"], outputCol=\"features_rf\")\n",
        "rf_train_df = rf_assembler.transform(encoded_train_df)\n",
        "rf_test_df = rf_assembler.transform(encoded_test_df)\n",
        "\n",
        "rf_train_df.select(\"features_rf\").show(5)\n",
        "rf_test_df.select(\"features_rf\").show(5)\n"
      ],
      "metadata": {
        "colab": {
          "base_uri": "https://localhost:8080/"
        },
        "id": "V2NRGN1MuGDH",
        "outputId": "6a7df6f5-a351-4f16-9e3a-6a8e351d0563"
      },
      "execution_count": null,
      "outputs": [
        {
          "output_type": "stream",
          "name": "stdout",
          "text": [
            "+--------------------+\n",
            "|         features_rf|\n",
            "+--------------------+\n",
            "|(7,[0,1,3],[15.0,...|\n",
            "|(7,[0,1,3],[15.0,...|\n",
            "|(7,[0,1,3],[15.0,...|\n",
            "|(7,[0,1,3],[15.0,...|\n",
            "|(7,[0,1,3],[15.0,...|\n",
            "+--------------------+\n",
            "only showing top 5 rows\n",
            "\n",
            "+--------------------+\n",
            "|         features_rf|\n",
            "+--------------------+\n",
            "|(7,[0,1,3],[15.0,...|\n",
            "|(7,[0,1,3],[15.0,...|\n",
            "|(7,[0,1,3],[15.0,...|\n",
            "|(7,[0,1,3],[15.0,...|\n",
            "|(7,[0,1,3],[15.0,...|\n",
            "+--------------------+\n",
            "only showing top 5 rows\n",
            "\n"
          ]
        }
      ]
    },
    {
      "cell_type": "code",
      "source": [
        "from pyspark.ml.feature import VectorAssembler\n",
        "\n",
        "\n",
        "rf_assembler = VectorAssembler(inputCols=[\"years_of_experience\", \"claim_amount\", \"specialty_vec\"], outputCol=\"features_rf\")\n",
        "\n",
        "\n",
        "rf_train_df = rf_assembler.transform(encoded_train_df)\n",
        "rf_test_df = rf_assembler.transform(encoded_test_df)\n",
        "\n",
        "\n",
        "rf_train_df.select(\"features_rf\").show(5)\n",
        "\n"
      ],
      "metadata": {
        "colab": {
          "base_uri": "https://localhost:8080/"
        },
        "id": "0nabjSeuuRHk",
        "outputId": "43fa8d07-5241-4c79-a0fa-e8c74974ecab"
      },
      "execution_count": null,
      "outputs": [
        {
          "output_type": "stream",
          "name": "stdout",
          "text": [
            "+--------------------+\n",
            "|         features_rf|\n",
            "+--------------------+\n",
            "|(7,[0,1,3],[15.0,...|\n",
            "|(7,[0,1,3],[15.0,...|\n",
            "|(7,[0,1,3],[15.0,...|\n",
            "|(7,[0,1,3],[15.0,...|\n",
            "|(7,[0,1,3],[15.0,...|\n",
            "+--------------------+\n",
            "only showing top 5 rows\n",
            "\n"
          ]
        }
      ]
    },
    {
      "cell_type": "code",
      "source": [
        "\n",
        "encoded_df = encoded_df.fillna({\"years_of_experience\": 0, \"claim_amount\": 0})\n",
        "\n"
      ],
      "metadata": {
        "id": "0wrJvyBCueqU"
      },
      "execution_count": null,
      "outputs": []
    },
    {
      "cell_type": "code",
      "source": [
        "\n",
        "encoded_df = encoded_df.na.drop(subset=[\"specialty_vec\"])\n"
      ],
      "metadata": {
        "id": "9VmGtEDOuyiZ"
      },
      "execution_count": null,
      "outputs": []
    },
    {
      "cell_type": "code",
      "source": [
        "\n",
        "encoded_df.select(\"years_of_experience\", \"claim_amount\", \"specialty_vec\").show(5)\n"
      ],
      "metadata": {
        "colab": {
          "base_uri": "https://localhost:8080/"
        },
        "id": "yhuTAzTdvCJx",
        "outputId": "240d553f-f05b-4f02-bfc0-4400d5d18e4f"
      },
      "execution_count": null,
      "outputs": [
        {
          "output_type": "stream",
          "name": "stdout",
          "text": [
            "+-------------------+------------+-------------+\n",
            "|years_of_experience|claim_amount|specialty_vec|\n",
            "+-------------------+------------+-------------+\n",
            "|               15.0|      409.97|(5,[1],[1.0])|\n",
            "|               15.0|      601.74|(5,[1],[1.0])|\n",
            "|               15.0|      676.96|(5,[1],[1.0])|\n",
            "|               15.0|      450.68|(5,[1],[1.0])|\n",
            "|               15.0|      616.27|(5,[1],[1.0])|\n",
            "+-------------------+------------+-------------+\n",
            "only showing top 5 rows\n",
            "\n"
          ]
        }
      ]
    },
    {
      "cell_type": "code",
      "source": [
        "encoded_df.printSchema()\n"
      ],
      "metadata": {
        "colab": {
          "base_uri": "https://localhost:8080/"
        },
        "id": "57Fg6N4yvX_Q",
        "outputId": "5095698c-cf78-486e-a0a5-537b677aa72d"
      },
      "execution_count": null,
      "outputs": [
        {
          "output_type": "stream",
          "name": "stdout",
          "text": [
            "root\n",
            " |-- provider_id: string (nullable = true)\n",
            " |-- provider_name: string (nullable = true)\n",
            " |-- specialty: string (nullable = true)\n",
            " |-- license_number: string (nullable = true)\n",
            " |-- years_of_experience: double (nullable = false)\n",
            " |-- zip_code: string (nullable = true)\n",
            " |-- state: string (nullable = true)\n",
            " |-- practice_size: string (nullable = true)\n",
            " |-- is_hospital_affiliated: string (nullable = true)\n",
            " |-- electronic_system_type: string (nullable = true)\n",
            " |-- insurance_networks: string (nullable = true)\n",
            " |-- office_hours: string (nullable = true)\n",
            " |-- languages_spoken: string (nullable = true)\n",
            " |-- certification_dates: string (nullable = true)\n",
            " |-- rating: string (nullable = true)\n",
            " |-- patient_demographics: string (nullable = true)\n",
            " |-- claim_id: string (nullable = true)\n",
            " |-- claim_date: string (nullable = true)\n",
            " |-- submission_date: string (nullable = true)\n",
            " |-- patient_age: string (nullable = true)\n",
            " |-- patient_gender: string (nullable = true)\n",
            " |-- diagnosis_codes: string (nullable = true)\n",
            " |-- procedure_codes: string (nullable = true)\n",
            " |-- claim_amount: double (nullable = false)\n",
            " |-- service_location: string (nullable = true)\n",
            " |-- is_emergency: string (nullable = true)\n",
            " |-- is_inpatient: string (nullable = true)\n",
            " |-- medical_notes: string (nullable = true)\n",
            " |-- lab_results: string (nullable = true)\n",
            " |-- medication_history: string (nullable = true)\n",
            " |-- payment_status: string (nullable = true)\n",
            " |-- days_to_process: string (nullable = true)\n",
            " |-- claim_type: string (nullable = true)\n",
            " |-- referred_by: string (nullable = true)\n",
            " |-- patient_vitals: string (nullable = true)\n",
            " |-- previous_visits: string (nullable = true)\n",
            " |-- insurance_details: string (nullable = true)\n",
            " |-- fraud_label: integer (nullable = false)\n",
            " |-- specialty_index: double (nullable = false)\n",
            " |-- specialty_vec: vector (nullable = true)\n",
            "\n"
          ]
        }
      ]
    },
    {
      "cell_type": "code",
      "source": [
        "encoded_df.select(\"years_of_experience\", \"claim_amount\", \"specialty_vec\").filter(\n",
        "    (encoded_df[\"years_of_experience\"].isNull()) |\n",
        "    (encoded_df[\"claim_amount\"].isNull()) |\n",
        "    (encoded_df[\"specialty_vec\"].isNull())\n",
        ").show()\n"
      ],
      "metadata": {
        "colab": {
          "base_uri": "https://localhost:8080/"
        },
        "id": "FkXMogXjvY3g",
        "outputId": "69d260a2-000f-405a-efbe-b0d5008665e2"
      },
      "execution_count": null,
      "outputs": [
        {
          "output_type": "stream",
          "name": "stdout",
          "text": [
            "+-------------------+------------+-------------+\n",
            "|years_of_experience|claim_amount|specialty_vec|\n",
            "+-------------------+------------+-------------+\n",
            "+-------------------+------------+-------------+\n",
            "\n"
          ]
        }
      ]
    },
    {
      "cell_type": "code",
      "source": [
        "\n",
        "encoded_df.filter(encoded_df[\"years_of_experience\"].isNull() |\n",
        "                  encoded_df[\"claim_amount\"].isNull() |\n",
        "                  encoded_df[\"specialty_vec\"].isNull()).show()\n",
        "\n"
      ],
      "metadata": {
        "colab": {
          "base_uri": "https://localhost:8080/"
        },
        "id": "XM6xEBy4v-M5",
        "outputId": "af8ca9a0-622b-45e5-a9c1-75b26b49ec15"
      },
      "execution_count": null,
      "outputs": [
        {
          "output_type": "stream",
          "name": "stdout",
          "text": [
            "+-----------+-------------+---------+--------------+-------------------+--------+-----+-------------+----------------------+----------------------+------------------+------------+----------------+-------------------+------+--------------------+--------+----------+---------------+-----------+--------------+---------------+---------------+------------+----------------+------------+------------+-------------+-----------+------------------+--------------+---------------+----------+-----------+--------------+---------------+-----------------+-----------+---------------+-------------+\n",
            "|provider_id|provider_name|specialty|license_number|years_of_experience|zip_code|state|practice_size|is_hospital_affiliated|electronic_system_type|insurance_networks|office_hours|languages_spoken|certification_dates|rating|patient_demographics|claim_id|claim_date|submission_date|patient_age|patient_gender|diagnosis_codes|procedure_codes|claim_amount|service_location|is_emergency|is_inpatient|medical_notes|lab_results|medication_history|payment_status|days_to_process|claim_type|referred_by|patient_vitals|previous_visits|insurance_details|fraud_label|specialty_index|specialty_vec|\n",
            "+-----------+-------------+---------+--------------+-------------------+--------+-----+-------------+----------------------+----------------------+------------------+------------+----------------+-------------------+------+--------------------+--------+----------+---------------+-----------+--------------+---------------+---------------+------------+----------------+------------+------------+-------------+-----------+------------------+--------------+---------------+----------+-----------+--------------+---------------+-----------------+-----------+---------------+-------------+\n",
            "+-----------+-------------+---------+--------------+-------------------+--------+-----+-------------+----------------------+----------------------+------------------+------------+----------------+-------------------+------+--------------------+--------+----------+---------------+-----------+--------------+---------------+---------------+------------+----------------+------------+------------+-------------+-----------+------------------+--------------+---------------+----------+-----------+--------------+---------------+-----------------+-----------+---------------+-------------+\n",
            "\n"
          ]
        }
      ]
    },
    {
      "cell_type": "code",
      "source": [
        "\n",
        "clean_df = encoded_df.dropna(subset=[\"years_of_experience\", \"claim_amount\", \"specialty_vec\"])\n",
        "\n",
        "\n",
        "clean_df.filter(clean_df[\"years_of_experience\"].isNull() |\n",
        "                clean_df[\"claim_amount\"].isNull() |\n",
        "                clean_df[\"specialty_vec\"].isNull()).show()\n"
      ],
      "metadata": {
        "colab": {
          "base_uri": "https://localhost:8080/"
        },
        "id": "yLnISFsrwm0G",
        "outputId": "d2099e8e-04be-4ec3-a127-7d8f53f0858d"
      },
      "execution_count": null,
      "outputs": [
        {
          "output_type": "stream",
          "name": "stdout",
          "text": [
            "+-----------+-------------+---------+--------------+-------------------+--------+-----+-------------+----------------------+----------------------+------------------+------------+----------------+-------------------+------+--------------------+--------+----------+---------------+-----------+--------------+---------------+---------------+------------+----------------+------------+------------+-------------+-----------+------------------+--------------+---------------+----------+-----------+--------------+---------------+-----------------+-----------+---------------+-------------+\n",
            "|provider_id|provider_name|specialty|license_number|years_of_experience|zip_code|state|practice_size|is_hospital_affiliated|electronic_system_type|insurance_networks|office_hours|languages_spoken|certification_dates|rating|patient_demographics|claim_id|claim_date|submission_date|patient_age|patient_gender|diagnosis_codes|procedure_codes|claim_amount|service_location|is_emergency|is_inpatient|medical_notes|lab_results|medication_history|payment_status|days_to_process|claim_type|referred_by|patient_vitals|previous_visits|insurance_details|fraud_label|specialty_index|specialty_vec|\n",
            "+-----------+-------------+---------+--------------+-------------------+--------+-----+-------------+----------------------+----------------------+------------------+------------+----------------+-------------------+------+--------------------+--------+----------+---------------+-----------+--------------+---------------+---------------+------------+----------------+------------+------------+-------------+-----------+------------------+--------------+---------------+----------+-----------+--------------+---------------+-----------------+-----------+---------------+-------------+\n",
            "+-----------+-------------+---------+--------------+-------------------+--------+-----+-------------+----------------------+----------------------+------------------+------------+----------------+-------------------+------+--------------------+--------+----------+---------------+-----------+--------------+---------------+---------------+------------+----------------+------------+------------+-------------+-----------+------------------+--------------+---------------+----------+-----------+--------------+---------------+-----------------+-----------+---------------+-------------+\n",
            "\n"
          ]
        }
      ]
    },
    {
      "cell_type": "code",
      "source": [
        "from pyspark.ml.feature import VectorAssembler\n",
        "\n",
        "\n",
        "rf_assembler = VectorAssembler(inputCols=[\"years_of_experience\", \"claim_amount\", \"specialty_vec\"], outputCol=\"features_rf\")\n",
        "rf_train_df = rf_assembler.transform(clean_df)\n",
        "\n",
        "\n",
        "rf_train_df.select(\"features_rf\").show(5)\n"
      ],
      "metadata": {
        "colab": {
          "base_uri": "https://localhost:8080/"
        },
        "id": "VQSBCFpbw9R3",
        "outputId": "8279084d-a39d-4ce7-e602-95efe992dafd"
      },
      "execution_count": null,
      "outputs": [
        {
          "output_type": "stream",
          "name": "stdout",
          "text": [
            "+--------------------+\n",
            "|         features_rf|\n",
            "+--------------------+\n",
            "|(7,[0,1,3],[15.0,...|\n",
            "|(7,[0,1,3],[15.0,...|\n",
            "|(7,[0,1,3],[15.0,...|\n",
            "|(7,[0,1,3],[15.0,...|\n",
            "|(7,[0,1,3],[15.0,...|\n",
            "+--------------------+\n",
            "only showing top 5 rows\n",
            "\n"
          ]
        }
      ]
    },
    {
      "cell_type": "code",
      "source": [
        "\n",
        "train_df, test_df = clean_df.randomSplit([0.8, 0.2], seed=12345)\n",
        "\n",
        "\n",
        "train_df.select(\"fraud_label\").show(5)\n",
        "test_df.select(\"fraud_label\").show(5)\n"
      ],
      "metadata": {
        "colab": {
          "base_uri": "https://localhost:8080/"
        },
        "id": "Mpg1zGnkw__d",
        "outputId": "0eb23bcf-18fa-456c-95b6-e47abb876b22"
      },
      "execution_count": null,
      "outputs": [
        {
          "output_type": "stream",
          "name": "stdout",
          "text": [
            "+-----------+\n",
            "|fraud_label|\n",
            "+-----------+\n",
            "|          1|\n",
            "|          1|\n",
            "|          0|\n",
            "|          0|\n",
            "|          0|\n",
            "+-----------+\n",
            "only showing top 5 rows\n",
            "\n",
            "+-----------+\n",
            "|fraud_label|\n",
            "+-----------+\n",
            "|          1|\n",
            "|          0|\n",
            "|          0|\n",
            "|          0|\n",
            "|          1|\n",
            "+-----------+\n",
            "only showing top 5 rows\n",
            "\n"
          ]
        }
      ]
    },
    {
      "cell_type": "code",
      "source": [
        "from pyspark.ml.feature import VectorAssembler\n",
        "\n",
        "rf_assembler = VectorAssembler(inputCols=[\"years_of_experience\", \"claim_amount\", \"specialty_vec\"], outputCol=\"features_rf\")\n",
        "train_df = rf_assembler.transform(train_df)\n",
        "\n",
        "train_df.select(\"features_rf\").show(5)\n",
        "\n"
      ],
      "metadata": {
        "colab": {
          "base_uri": "https://localhost:8080/"
        },
        "id": "E9H5zwswxFtv",
        "outputId": "81f49bfb-70b2-48e9-94de-bb3c0500f5d6"
      },
      "execution_count": null,
      "outputs": [
        {
          "output_type": "stream",
          "name": "stdout",
          "text": [
            "+--------------------+\n",
            "|         features_rf|\n",
            "+--------------------+\n",
            "|(7,[0,1,3],[15.0,...|\n",
            "|(7,[0,1,3],[15.0,...|\n",
            "|(7,[0,1,3],[15.0,...|\n",
            "|(7,[0,1,3],[15.0,...|\n",
            "|(7,[0,1,3],[15.0,...|\n",
            "+--------------------+\n",
            "only showing top 5 rows\n",
            "\n"
          ]
        }
      ]
    },
    {
      "cell_type": "code",
      "source": [
        "train_df.printSchema()\n"
      ],
      "metadata": {
        "colab": {
          "base_uri": "https://localhost:8080/"
        },
        "id": "qYb1bQxRxVCq",
        "outputId": "14a6b5dd-45b1-4308-a344-f8ee634bcea2"
      },
      "execution_count": null,
      "outputs": [
        {
          "output_type": "stream",
          "name": "stdout",
          "text": [
            "root\n",
            " |-- provider_id: string (nullable = true)\n",
            " |-- provider_name: string (nullable = true)\n",
            " |-- specialty: string (nullable = true)\n",
            " |-- license_number: string (nullable = true)\n",
            " |-- years_of_experience: double (nullable = false)\n",
            " |-- zip_code: string (nullable = true)\n",
            " |-- state: string (nullable = true)\n",
            " |-- practice_size: string (nullable = true)\n",
            " |-- is_hospital_affiliated: string (nullable = true)\n",
            " |-- electronic_system_type: string (nullable = true)\n",
            " |-- insurance_networks: string (nullable = true)\n",
            " |-- office_hours: string (nullable = true)\n",
            " |-- languages_spoken: string (nullable = true)\n",
            " |-- certification_dates: string (nullable = true)\n",
            " |-- rating: string (nullable = true)\n",
            " |-- patient_demographics: string (nullable = true)\n",
            " |-- claim_id: string (nullable = true)\n",
            " |-- claim_date: string (nullable = true)\n",
            " |-- submission_date: string (nullable = true)\n",
            " |-- patient_age: string (nullable = true)\n",
            " |-- patient_gender: string (nullable = true)\n",
            " |-- diagnosis_codes: string (nullable = true)\n",
            " |-- procedure_codes: string (nullable = true)\n",
            " |-- claim_amount: double (nullable = false)\n",
            " |-- service_location: string (nullable = true)\n",
            " |-- is_emergency: string (nullable = true)\n",
            " |-- is_inpatient: string (nullable = true)\n",
            " |-- medical_notes: string (nullable = true)\n",
            " |-- lab_results: string (nullable = true)\n",
            " |-- medication_history: string (nullable = true)\n",
            " |-- payment_status: string (nullable = true)\n",
            " |-- days_to_process: string (nullable = true)\n",
            " |-- claim_type: string (nullable = true)\n",
            " |-- referred_by: string (nullable = true)\n",
            " |-- patient_vitals: string (nullable = true)\n",
            " |-- previous_visits: string (nullable = true)\n",
            " |-- insurance_details: string (nullable = true)\n",
            " |-- fraud_label: integer (nullable = false)\n",
            " |-- specialty_index: double (nullable = false)\n",
            " |-- specialty_vec: vector (nullable = true)\n",
            " |-- features_rf: vector (nullable = true)\n",
            "\n"
          ]
        }
      ]
    },
    {
      "cell_type": "code",
      "source": [
        "from pyspark.ml.classification import RandomForestClassifier\n",
        "\n",
        "\n",
        "rf_classifier = RandomForestClassifier(labelCol=\"fraud_label\", featuresCol=\"features_rf\")\n",
        "rf_model = rf_classifier.fit(train_df)\n"
      ],
      "metadata": {
        "id": "HtXR2HXHxaAF"
      },
      "execution_count": null,
      "outputs": []
    },
    {
      "cell_type": "code",
      "source": [
        "\n",
        "rf_test_df = rf_assembler.transform(test_df)\n",
        "\n",
        "\n",
        "rf_test_predictions = rf_model.transform(rf_test_df)\n",
        "\n",
        "\n",
        "rf_test_predictions.select(\"fraud_label\", \"prediction\", \"probability\").show(5)\n"
      ],
      "metadata": {
        "colab": {
          "base_uri": "https://localhost:8080/"
        },
        "id": "A3OS_uwBx6Jl",
        "outputId": "d6d5e153-c284-4217-8972-ad88b0fc00a1"
      },
      "execution_count": null,
      "outputs": [
        {
          "output_type": "stream",
          "name": "stdout",
          "text": [
            "+-----------+----------+--------------------+\n",
            "|fraud_label|prediction|         probability|\n",
            "+-----------+----------+--------------------+\n",
            "|          1|       1.0|           [0.0,1.0]|\n",
            "|          0|       0.0|[0.99280823236078...|\n",
            "|          0|       0.0|[0.99280823236078...|\n",
            "|          0|       0.0|[0.99280823236078...|\n",
            "|          1|       1.0|           [0.0,1.0]|\n",
            "+-----------+----------+--------------------+\n",
            "only showing top 5 rows\n",
            "\n"
          ]
        }
      ]
    },
    {
      "cell_type": "code",
      "source": [
        "from pyspark.ml.evaluation import MulticlassClassificationEvaluator\n",
        "\n",
        "\n",
        "evaluator = MulticlassClassificationEvaluator(labelCol=\"fraud_label\", predictionCol=\"prediction\", metricName=\"accuracy\")"
      ],
      "metadata": {
        "id": "S7PC64EvyRBq"
      },
      "execution_count": null,
      "outputs": []
    },
    {
      "cell_type": "code",
      "source": [
        "from pyspark.ml.classification import RandomForestClassifier\n",
        "from pyspark.sql.functions import col\n",
        "\n",
        "\n",
        "rf_classifier = RandomForestClassifier(labelCol=\"fraud_label\", featuresCol=\"features_rf\")\n",
        "rf_model = rf_classifier.fit(train_df)\n",
        "\n",
        "\n",
        "rf_test_df = rf_assembler.transform(test_df)\n",
        "rf_test_predictions = rf_model.transform(rf_test_df)\n",
        "\n",
        "rf_test_predictions.select(\"fraud_label\", \"prediction\", \"probability\").show(5)\n",
        "\n",
        "fraudulent_df = rf_test_predictions.filter(col(\"prediction\") == 1.0)\n",
        "non_fraudulent_df = rf_test_predictions.filter(col(\"prediction\") == 0.0)\n",
        "\n"
      ],
      "metadata": {
        "id": "C768ZN5IrpCQ"
      },
      "execution_count": null,
      "outputs": []
    },
    {
      "cell_type": "markdown",
      "source": [],
      "metadata": {
        "id": "EFcsxsksrnN7"
      }
    },
    {
      "cell_type": "markdown",
      "source": [],
      "metadata": {
        "id": "xfQ5au1nrm2M"
      }
    },
    {
      "cell_type": "code",
      "source": [
        "accuracy = evaluator.evaluate(rf_test_predictions)\n",
        "print(f\"Test Accuracy = {accuracy}\")\n",
        "\n",
        "\n",
        "precision_evaluator = MulticlassClassificationEvaluator(labelCol=\"fraud_label\", predictionCol=\"prediction\", metricName=\"weightedPrecision\")\n",
        "precision = precision_evaluator.evaluate(rf_test_predictions)\n",
        "print(f\"Test Precision = {precision}\")"
      ],
      "metadata": {
        "colab": {
          "base_uri": "https://localhost:8080/"
        },
        "id": "no1jtDA_ySVt",
        "outputId": "7fbc17ca-47f8-4646-ba35-e44b870da646"
      },
      "execution_count": null,
      "outputs": [
        {
          "output_type": "stream",
          "name": "stdout",
          "text": [
            "Test Accuracy = 0.9849266164220547\n",
            "Test Precision = 0.9851558573283842\n"
          ]
        }
      ]
    },
    {
      "cell_type": "code",
      "source": [
        "recall_evaluator = MulticlassClassificationEvaluator(labelCol=\"fraud_label\", predictionCol=\"prediction\", metricName=\"weightedRecall\")\n",
        "recall = recall_evaluator.evaluate(rf_test_predictions)\n",
        "print(f\"Test Recall = {recall}\")"
      ],
      "metadata": {
        "colab": {
          "base_uri": "https://localhost:8080/"
        },
        "id": "g0pX7A3qyWaM",
        "outputId": "2b63f664-ca07-450f-9ec5-e4a871303671"
      },
      "execution_count": null,
      "outputs": [
        {
          "output_type": "stream",
          "name": "stdout",
          "text": [
            "Test Recall = 0.9849266164220547\n"
          ]
        }
      ]
    },
    {
      "cell_type": "code",
      "source": [
        "f1_evaluator = MulticlassClassificationEvaluator(labelCol=\"fraud_label\", predictionCol=\"prediction\", metricName=\"f1\")\n",
        "f1 = f1_evaluator.evaluate(rf_test_predictions)\n",
        "print(f\"Test F1-score = {f1}\")"
      ],
      "metadata": {
        "colab": {
          "base_uri": "https://localhost:8080/"
        },
        "id": "U_-mv7FryZLm",
        "outputId": "561f2625-63da-450d-e5f1-a93e3468799a"
      },
      "execution_count": null,
      "outputs": [
        {
          "output_type": "stream",
          "name": "stdout",
          "text": [
            "Test F1-score = 0.9849362107585853\n"
          ]
        }
      ]
    },
    {
      "cell_type": "code",
      "source": [
        "from pyspark.sql import functions as F\n",
        "\n",
        "\n",
        "prediction_and_labels = rf_test_predictions.select(\"fraud_label\", \"prediction\")\n",
        "\n",
        "\n",
        "TP = prediction_and_labels.filter((F.col(\"fraud_label\") == 1) & (F.col(\"prediction\") == 1)).count()\n",
        "\n",
        "FP = prediction_and_labels.filter((F.col(\"fraud_label\") == 0) & (F.col(\"prediction\") == 1)).count()\n",
        "\n",
        "\n",
        "TN = prediction_and_labels.filter((F.col(\"fraud_label\") == 0) & (F.col(\"prediction\") == 0)).count()\n",
        "\n",
        "\n",
        "FN = prediction_and_labels.filter((F.col(\"fraud_label\") == 1) & (F.col(\"prediction\") == 0)).count()\n",
        "\n",
        "print(f\"Confusion Matrix:\")\n",
        "print(f\"TP: {TP}, FP: {FP}, TN: {TN}, FN: {FN}\")\n"
      ],
      "metadata": {
        "colab": {
          "base_uri": "https://localhost:8080/"
        },
        "id": "LMNNMJ6Hyvo2",
        "outputId": "67faaada-e6af-4bd1-acc3-a4d1483d2903"
      },
      "execution_count": null,
      "outputs": [
        {
          "output_type": "stream",
          "name": "stdout",
          "text": [
            "Confusion Matrix:\n",
            "TP: 2638, FP: 12, TN: 2328, FN: 64\n"
          ]
        }
      ]
    },
    {
      "cell_type": "code",
      "source": [
        "from pyspark.ml.evaluation import BinaryClassificationEvaluator\n",
        "import matplotlib.pyplot as plt\n",
        "import numpy as np\n",
        "\n",
        "\n",
        "evaluator = BinaryClassificationEvaluator(labelCol=\"fraud_label\", rawPredictionCol=\"prediction\", metricName=\"areaUnderROC\")\n",
        "roc_auc = evaluator.evaluate(rf_test_predictions)\n",
        "\n",
        "\n",
        "preds_df = rf_test_predictions.select(\"fraud_label\", \"probability\").toPandas()\n",
        "\n",
        "\n",
        "fprs = []\n",
        "tprs = []\n",
        "thresholds = np.linspace(0, 1, 100)\n",
        "\n",
        "for threshold in thresholds:\n",
        "    preds_df['pred_label'] = preds_df['probability'].apply(lambda x: 1 if x[1] >= threshold else 0)\n",
        "    TP = len(preds_df[(preds_df['fraud_label'] == 1) & (preds_df['pred_label'] == 1)])\n",
        "    TN = len(preds_df[(preds_df['fraud_label'] == 0) & (preds_df['pred_label'] == 0)])\n",
        "    FP = len(preds_df[(preds_df['fraud_label'] == 0) & (preds_df['pred_label'] == 1)])\n",
        "    FN = len(preds_df[(preds_df['fraud_label'] == 1) & (preds_df['pred_label'] == 0)])\n",
        "\n",
        "    tpr = TP / (TP + FN)\n",
        "    fpr = FP / (FP + TN)\n",
        "\n",
        "    tprs.append(tpr)\n",
        "    fprs.append(fpr)\n",
        "\n",
        "\n",
        "plt.plot(fprs, tprs, label=f'ROC curve (area = {roc_auc:.2f})')\n",
        "plt.plot([0, 1], [0, 1], 'k--')\n",
        "plt.xlabel('False Positive Rate')\n",
        "plt.ylabel('True Positive Rate')\n",
        "plt.title('ROC Curve')\n",
        "plt.legend(loc='best')\n",
        "plt.show()\n"
      ],
      "metadata": {
        "colab": {
          "base_uri": "https://localhost:8080/",
          "height": 472
        },
        "id": "ZA562XRVzYpx",
        "outputId": "a5a0cb0e-2fa9-4ca2-86e3-94124a9e11c0"
      },
      "execution_count": null,
      "outputs": [
        {
          "output_type": "display_data",
          "data": {
            "text/plain": [
              "<Figure size 640x480 with 1 Axes>"
            ],
            "image/png": "[encoded data removed]"
          },
          "metadata": {}
        }
      ]
    },
    {
      "cell_type": "code",
      "source": [
        "from sklearn.metrics import precision_recall_curve\n",
        "\n",
        "preds_df = rf_test_predictions.select(\"fraud_label\", \"probability\").toPandas()\n",
        "\n",
        "\n",
        "precision, recall, _ = precision_recall_curve(preds_df[\"fraud_label\"], preds_df[\"probability\"].apply(lambda x: x[1]))\n",
        "\n",
        "plt.plot(recall, precision)\n",
        "plt.xlabel('Recall')\n",
        "plt.ylabel('Precision')\n",
        "plt.title('Precision-Recall Curve')\n",
        "plt.show()\n"
      ],
      "metadata": {
        "colab": {
          "base_uri": "https://localhost:8080/",
          "height": 472
        },
        "id": "86n-6Ag0z5qY",
        "outputId": "13cb6a39-22f8-4f05-e89c-9cf28e414e78"
      },
      "execution_count": null,
      "outputs": [
        {
          "output_type": "display_data",
          "data": {
            "text/plain": [
              "<Figure size 640x480 with 1 Axes>"
            ],
            "image/png": "[encoded data removed]"
          },
          "metadata": {}
        }
      ]
    },
    {
      "cell_type": "code",
      "source": [
        "import seaborn as sns\n",
        "import matplotlib.pyplot as plt\n",
        "\n",
        "confusion_matrix = [[2638, 12], [64, 2328]]\n",
        "\n",
        "\n",
        "plt.figure(figsize=(6,4))\n",
        "sns.heatmap(confusion_matrix, annot=True, fmt=\"d\", cmap=\"Blues\", xticklabels=[\"Predicted Negative\", \"Predicted Positive\"], yticklabels=[\"Actual Negative\", \"Actual Positive\"])\n",
        "plt.ylabel('True label')\n",
        "plt.xlabel('Predicted label')\n",
        "plt.title('Confusion Matrix')\n",
        "plt.show()\n"
      ],
      "metadata": {
        "colab": {
          "base_uri": "https://localhost:8080/",
          "height": 410
        },
        "id": "o41ajJSD0EHI",
        "outputId": "7724d7b3-c515-4e03-fe83-1af6495a46ec"
      },
      "execution_count": null,
      "outputs": [
        {
          "output_type": "display_data",
          "data": {
            "text/plain": [
              "<Figure size 600x400 with 2 Axes>"
            ],
            "image/png": "[encoded data removed]"
          },
          "metadata": {}
        }
      ]
    },
    {
      "cell_type": "code",
      "source": [
        "pandas_df.to_csv('cleaned_data.csv', index=False)\n"
      ],
      "metadata": {
        "id": "5wE7lgLm-giL"
      },
      "execution_count": null,
      "outputs": []
    },
    {
      "cell_type": "code",
      "source": [
        "import pandas as pd\n",
        "from pyspark.sql import SparkSession\n",
        "from pyspark.sql.functions import udf\n",
        "from pyspark.ml.classification import RandomForestClassifier\n",
        "from pyspark.ml.linalg import Vectors, VectorUDT\n",
        "import time\n",
        "\n",
        "file_path = '/content/cleaned_data.xlsx'\n",
        "data = pd.read_excel(file_path)\n",
        "\n",
        "\n",
        "expected_length = 3\n",
        "data['features_rf'] = data['features_rf'].apply(lambda x: list(eval(x)[2]) if len(eval(x)[2]) == expected_length else [0.0] * expected_length)\n",
        "\n",
        "spark = SparkSession.builder.appName(\"RandomForestRuntime\").getOrCreate()\n",
        "\n",
        "\n",
        "data_spark = spark.createDataFrame(data)\n",
        "\n",
        "def array_to_vector(array):\n",
        "    return Vectors.dense(array)\n",
        "\n",
        "\n",
        "array_to_vector_udf = udf(array_to_vector, VectorUDT())\n",
        "data_spark = data_spark.withColumn(\"features\", array_to_vector_udf(\"features_rf\"))\n",
        "\n",
        "train_df, test_df = data_spark.randomSplit([0.7, 0.3], seed=42)\n",
        "\n",
        "\n",
        "rf_classifier = RandomForestClassifier(labelCol=\"fraud_label\", featuresCol=\"features\")\n",
        "\n",
        "\n",
        "start_time = time.time()\n",
        "rf_model = rf_classifier.fit(train_df)\n",
        "end_time = time.time()\n",
        "\n",
        "\n",
        "runtime = end_time - start_time\n",
        "print(f\"Random Forest Training Runtime: {runtime} seconds\")\n"
      ],
      "metadata": {
        "colab": {
          "base_uri": "https://localhost:8080/"
        },
        "id": "294sa9n1086I",
        "outputId": "d7601a47-0632-441f-bc66-0d9bbd67696c"
      },
      "execution_count": null,
      "outputs": [
        {
          "output_type": "stream",
          "name": "stdout",
          "text": [
            "Random Forest Training Runtime: 15.895964622497559 seconds\n"
          ]
        }
      ]
    },
    {
      "cell_type": "code",
      "source": [
        "from pyspark.sql import SparkSession\n",
        "from pyspark.sql.functions import udf\n",
        "from pyspark.ml.regression import LinearRegression\n",
        "from pyspark.ml.linalg import Vectors, VectorUDT\n",
        "import pandas as pd\n",
        "import time\n",
        "\n",
        "data = pd.read_excel(file_path)+\n",
        "expected_length = 3\n",
        "data['features_rf'] = data['features_rf'].apply(lambda x: list(eval(x)[2]) if len(eval(x)[2]) == expected_length else [0.0] * expected_length)\n",
        "\n",
        "\n",
        "spark = SparkSession.builder.appName(\"LinearRegressionFraudPrediction\").getOrCreate()\n",
        "\n",
        "data_spark = spark.createDataFrame(data)\n",
        "\n",
        "\n",
        "def array_to_vector(array):\n",
        "    return Vectors.dense(array)\n",
        "\n",
        "\n",
        "array_to_vector_udf = udf(array_to_vector, VectorUDT())\n",
        "data_spark = data_spark.withColumn(\"features\", array_to_vector_udf(\"features_rf\"))\n",
        "\n",
        "train_df, test_df = data_spark.randomSplit([0.7, 0.3], seed=42)\n",
        "\n",
        "\n",
        "lr = LinearRegression(labelCol=\"fraud_label\", featuresCol=\"features\")\n",
        "\n",
        "\n",
        "start_time = time.time()\n",
        "lr_model = lr.fit(train_df)\n",
        "end_time = time.time()\n",
        "\n",
        "runtime = end_time - start_time\n",
        "print(f\"Linear Regression Training Runtime: {runtime} seconds\")\n",
        "\n",
        "\n",
        "test_predictions = lr_model.transform(test_df)\n",
        "\n",
        "test_predictions.select(\"fraud_label\", \"prediction\").show(10)\n"
      ],
      "metadata": {
        "colab": {
          "base_uri": "https://localhost:8080/"
        },
        "id": "_FyxEhaE5Dl3",
        "outputId": "d5387892-7def-4380-9d23-59729df774c8"
      },
      "execution_count": null,
      "outputs": [
        {
          "output_type": "stream",
          "name": "stdout",
          "text": [
            "Linear Regression Training Runtime: 6.169198751449585 seconds\n",
            "+-----------+-------------------+\n",
            "|fraud_label|         prediction|\n",
            "+-----------+-------------------+\n",
            "|          0|  0.337578579391662|\n",
            "|          1| 0.7125843492740083|\n",
            "|          0| 0.4074775660436123|\n",
            "|          0|0.48269278052101805|\n",
            "|          1| 0.6440261811444072|\n",
            "|          1| 0.6884260927397483|\n",
            "|          0| 0.4156636159695348|\n",
            "|          0|0.27800624767499893|\n",
            "|          0|  0.226067172282939|\n",
            "|          0|0.46583845646376665|\n",
            "+-----------+-------------------+\n",
            "only showing top 10 rows\n",
            "\n"
          ]
        }
      ]
    },
    {
      "cell_type": "code",
      "source": [
        "from pyspark.ml.evaluation import BinaryClassificationEvaluator\n",
        "from pyspark.sql.functions import when\n",
        "\n",
        "threshold = 0.5\n",
        "test_predictions = test_predictions.withColumn(\"binary_prediction\", when(test_predictions[\"prediction\"] >= threshold, 1).otherwise(0))\n",
        "\n",
        "\n",
        "evaluator_accuracy = BinaryClassificationEvaluator(labelCol=\"fraud_label\", rawPredictionCol=\"binary_prediction\", metricName=\"areaUnderROC\")\n",
        "evaluator_precision = BinaryClassificationEvaluator(labelCol=\"fraud_label\", rawPredictionCol=\"binary_prediction\", metricName=\"areaUnderPR\")\n",
        "\n",
        "tp = test_predictions.filter((test_predictions[\"fraud_label\"] == 1) & (test_predictions[\"binary_prediction\"] == 1)).count()\n",
        "fp = test_predictions.filter((test_predictions[\"fraud_label\"] == 0) & (test_predictions[\"binary_prediction\"] == 1)).count()\n",
        "fn = test_predictions.filter((test_predictions[\"fraud_label\"] == 1) & (test_predictions[\"binary_prediction\"] == 0)).count()\n",
        "tn = test_predictions.filter((test_predictions[\"fraud_label\"] == 0) & (test_predictions[\"binary_prediction\"] == 0)).count()\n",
        "\n",
        "\n",
        "accuracy = (tp + tn) / (tp + tn + fp + fn)\n",
        "precision = tp / (tp + fp) if (tp + fp) > 0 else 0\n",
        "recall = tp / (tp + fn) if (tp + fn) > 0 else 0\n",
        "f1_score = 2 * (precision * recall) / (precision + recall) if (precision + recall) > 0 else 0\n",
        "\n",
        "\n",
        "print(f\"Accuracy: {accuracy}\")\n",
        "print(f\"Precision: {precision}\")\n",
        "print(f\"Recall: {recall}\")\n",
        "print(f\"F1 Score: {f1_score}\")\n"
      ],
      "metadata": {
        "colab": {
          "base_uri": "https://localhost:8080/"
        },
        "id": "jZ78_PZj6i6E",
        "outputId": "ae552527-765c-4481-8493-a58a479f1626"
      },
      "execution_count": null,
      "outputs": [
        {
          "output_type": "stream",
          "name": "stdout",
          "text": [
            "Accuracy: 0.9019036185902932\n",
            "Precision: 0.8843740663280549\n",
            "Recall: 0.9411764705882353\n",
            "F1 Score: 0.9118915588416511\n"
          ]
        }
      ]
    },
    {
      "cell_type": "code",
      "source": [
        "import matplotlib.pyplot as plt\n",
        "import pandas as pd\n",
        "from pyspark.ml.evaluation import BinaryClassificationEvaluator\n",
        "from pyspark.sql.functions import when\n",
        "\n",
        "threshold = 0.5\n",
        "test_predictions = test_predictions.withColumn(\"binary_prediction\", when(test_predictions[\"prediction\"] >= threshold, 1).otherwise(0))\n",
        "\n",
        "\n",
        "tp = test_predictions.filter((test_predictions[\"fraud_label\"] == 1) & (test_predictions[\"binary_prediction\"] == 1)).count()\n",
        "fp = test_predictions.filter((test_predictions[\"fraud_label\"] == 0) & (test_predictions[\"binary_prediction\"] == 1)).count()\n",
        "fn = test_predictions.filter((test_predictions[\"fraud_label\"] == 1) & (test_predictions[\"binary_prediction\"] == 0)).count()\n",
        "tn = test_predictions.filter((test_predictions[\"fraud_label\"] == 0) & (test_predictions[\"binary_prediction\"] == 0)).count()\n",
        "\n",
        "\n",
        "accuracy = (tp + tn) / (tp + tn + fp + fn)\n",
        "precision = tp / (tp + fp) if (tp + fp) > 0 else 0\n",
        "recall = tp / (tp + fn) if (tp + fn) > 0 else 0\n",
        "f1_score = 2 * (precision * recall) / (precision + recall) if (precision + recall) > 0 else 0\n",
        "\n",
        "\n",
        "confusion_matrix = pd.DataFrame([[tn, fp], [fn, tp]], columns=[\"Predicted 0\", \"Predicted 1\"], index=[\"Actual 0\", \"Actual 1\"])\n",
        "plt.figure(figsize=(6, 5))\n",
        "plt.title(\"Confusion Matrix\")\n",
        "plt.imshow(confusion_matrix, cmap='Blues', aspect='auto')\n",
        "for i in range(2):\n",
        "    for j in range(2):\n",
        "        plt.text(j, i, confusion_matrix.iloc[i, j], ha='center', va='center', color='black')\n",
        "plt.colorbar()\n",
        "plt.xlabel(\"Predicted\")\n",
        "plt.ylabel(\"Actual\")\n",
        "plt.show()\n",
        "\n",
        "metrics = {\"Accuracy\": accuracy, \"Precision\": precision, \"Recall\": recall, \"F1 Score\": f1_score}\n",
        "plt.figure(figsize=(8, 5))\n",
        "plt.title(\"Model Performance Metrics\")\n",
        "plt.bar(metrics.keys(), metrics.values(), color='skyblue')\n",
        "plt.ylim(0, 1)\n",
        "plt.ylabel(\"Score\")\n",
        "plt.show()\n"
      ],
      "metadata": {
        "colab": {
          "base_uri": "https://localhost:8080/",
          "height": 938
        },
        "id": "yPMdgiSR62N_",
        "outputId": "d118c20a-a77f-49d1-ecae-1915c764e258"
      },
      "execution_count": null,
      "outputs": [
        {
          "output_type": "display_data",
          "data": {
            "text/plain": [
              "<Figure size 600x500 with 2 Axes>"
            ],
            "image/png": "[encoded data removed]"
          },
          "metadata": {}
        },
        {
          "output_type": "display_data",
          "data": {
            "text/plain": [
              "<Figure size 800x500 with 1 Axes>"
            ],
            "image/png": "[encoded data removed]"
          },
          "metadata": {}
        }
      ]
    }
  ]
}